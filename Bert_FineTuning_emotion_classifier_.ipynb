{
 "cells": [
  {
   "cell_type": "code",
   "execution_count": null,
   "id": "DD465dAxYNfm",
   "metadata": {
    "id": "DD465dAxYNfm"
   },
   "outputs": [],
   "source": [
    "# Note :This notebook is run in Google colab with GPU settings added"
   ]
  },
  {
   "cell_type": "code",
   "execution_count": 1,
   "id": "54708eb6",
   "metadata": {},
   "outputs": [
    {
     "data": {
      "text/plain": [
       "'3.8.8'"
      ]
     },
     "execution_count": 1,
     "metadata": {},
     "output_type": "execute_result"
    }
   ],
   "source": [
    "from platform import python_version\n",
    "python_version()"
   ]
  },
  {
   "cell_type": "markdown",
   "id": "5RHqNxOTV_G1",
   "metadata": {
    "id": "5RHqNxOTV_G1"
   },
   "source": [
    "# ***TEXT BASED EMOTION CLASSIFICATION USING BERT FINE-TUNING APPROACHES***"
   ]
  },
  {
   "cell_type": "markdown",
   "id": "qVw9ftv_XjA4",
   "metadata": {
    "id": "qVw9ftv_XjA4"
   },
   "source": [
    "**Install and load all dependencies**"
   ]
  },
  {
   "cell_type": "code",
   "execution_count": null,
   "id": "k-4h4jrowWSt",
   "metadata": {
    "colab": {
     "base_uri": "https://localhost:8080/"
    },
    "id": "k-4h4jrowWSt",
    "outputId": "2b805858-fa84-45b0-ad36-40ccb4f45112"
   },
   "outputs": [
    {
     "name": "stdout",
     "output_type": "stream",
     "text": [
      "Mounted at /content/drive\n"
     ]
    }
   ],
   "source": [
    "from google.colab import drive\n",
    "drive.mount('/content/drive')"
   ]
  },
  {
   "cell_type": "code",
   "execution_count": null,
   "id": "q-vhLrH-4FAA",
   "metadata": {
    "id": "q-vhLrH-4FAA"
   },
   "outputs": [],
   "source": [
    "!pip install tensorflow_text"
   ]
  },
  {
   "cell_type": "code",
   "execution_count": null,
   "id": "70dd3be7",
   "metadata": {
    "id": "70dd3be7"
   },
   "outputs": [],
   "source": [
    "#Load all the required libraries\n",
    "import tensorflow as tf\n",
    "import tensorflow_hub as hub\n",
    "import tensorflow_text as text\n",
    "import numpy as np\n",
    "import pandas as pd\n",
    "import re\n",
    "import matplotlib.pyplot as plt\n",
    "from imblearn.over_sampling import RandomOverSampler\n",
    "from collections import Counter\n",
    "from tensorflow.keras.optimizers import Adam\n",
    "from tensorflow.keras.layers import Bidirectional\n",
    "from tensorflow.keras.layers import LSTM,Dense,Dropout\n",
    "#add callbacks\n",
    "from keras.callbacks import ModelCheckpoint, EarlyStopping , CSVLogger\n",
    "from sklearn.metrics import confusion_matrix,classification_report\n",
    "import seaborn as sns\n",
    "from sklearn import metrics"
   ]
  },
  {
   "cell_type": "code",
   "execution_count": null,
   "id": "31535a70",
   "metadata": {
    "colab": {
     "base_uri": "https://localhost:8080/",
     "height": 206
    },
    "id": "31535a70",
    "outputId": "4e5d9ea7-f417-428d-8aeb-993d016b4c25"
   },
   "outputs": [
    {
     "data": {
      "text/html": [
       "\n",
       "  <div id=\"df-1527b76a-a572-44c5-90e9-abef876e9995\">\n",
       "    <div class=\"colab-df-container\">\n",
       "      <div>\n",
       "<style scoped>\n",
       "    .dataframe tbody tr th:only-of-type {\n",
       "        vertical-align: middle;\n",
       "    }\n",
       "\n",
       "    .dataframe tbody tr th {\n",
       "        vertical-align: top;\n",
       "    }\n",
       "\n",
       "    .dataframe thead th {\n",
       "        text-align: right;\n",
       "    }\n",
       "</style>\n",
       "<table border=\"1\" class=\"dataframe\">\n",
       "  <thead>\n",
       "    <tr style=\"text-align: right;\">\n",
       "      <th></th>\n",
       "      <th>sentence</th>\n",
       "      <th>label</th>\n",
       "    </tr>\n",
       "  </thead>\n",
       "  <tbody>\n",
       "    <tr>\n",
       "      <th>0</th>\n",
       "      <td>i didnt feel humiliated</td>\n",
       "      <td>sadness</td>\n",
       "    </tr>\n",
       "    <tr>\n",
       "      <th>1</th>\n",
       "      <td>i can go from feeling so hopeless to so damned...</td>\n",
       "      <td>sadness</td>\n",
       "    </tr>\n",
       "    <tr>\n",
       "      <th>2</th>\n",
       "      <td>im grabbing a minute to post i feel greedy wrong</td>\n",
       "      <td>anger</td>\n",
       "    </tr>\n",
       "    <tr>\n",
       "      <th>3</th>\n",
       "      <td>i am ever feeling nostalgic about the fireplac...</td>\n",
       "      <td>love</td>\n",
       "    </tr>\n",
       "    <tr>\n",
       "      <th>4</th>\n",
       "      <td>i am feeling grouchy</td>\n",
       "      <td>anger</td>\n",
       "    </tr>\n",
       "  </tbody>\n",
       "</table>\n",
       "</div>\n",
       "      <button class=\"colab-df-convert\" onclick=\"convertToInteractive('df-1527b76a-a572-44c5-90e9-abef876e9995')\"\n",
       "              title=\"Convert this dataframe to an interactive table.\"\n",
       "              style=\"display:none;\">\n",
       "        \n",
       "  <svg xmlns=\"http://www.w3.org/2000/svg\" height=\"24px\"viewBox=\"0 0 24 24\"\n",
       "       width=\"24px\">\n",
       "    <path d=\"M0 0h24v24H0V0z\" fill=\"none\"/>\n",
       "    <path d=\"M18.56 5.44l.94 2.06.94-2.06 2.06-.94-2.06-.94-.94-2.06-.94 2.06-2.06.94zm-11 1L8.5 8.5l.94-2.06 2.06-.94-2.06-.94L8.5 2.5l-.94 2.06-2.06.94zm10 10l.94 2.06.94-2.06 2.06-.94-2.06-.94-.94-2.06-.94 2.06-2.06.94z\"/><path d=\"M17.41 7.96l-1.37-1.37c-.4-.4-.92-.59-1.43-.59-.52 0-1.04.2-1.43.59L10.3 9.45l-7.72 7.72c-.78.78-.78 2.05 0 2.83L4 21.41c.39.39.9.59 1.41.59.51 0 1.02-.2 1.41-.59l7.78-7.78 2.81-2.81c.8-.78.8-2.07 0-2.86zM5.41 20L4 18.59l7.72-7.72 1.47 1.35L5.41 20z\"/>\n",
       "  </svg>\n",
       "      </button>\n",
       "      \n",
       "  <style>\n",
       "    .colab-df-container {\n",
       "      display:flex;\n",
       "      flex-wrap:wrap;\n",
       "      gap: 12px;\n",
       "    }\n",
       "\n",
       "    .colab-df-convert {\n",
       "      background-color: #E8F0FE;\n",
       "      border: none;\n",
       "      border-radius: 50%;\n",
       "      cursor: pointer;\n",
       "      display: none;\n",
       "      fill: #1967D2;\n",
       "      height: 32px;\n",
       "      padding: 0 0 0 0;\n",
       "      width: 32px;\n",
       "    }\n",
       "\n",
       "    .colab-df-convert:hover {\n",
       "      background-color: #E2EBFA;\n",
       "      box-shadow: 0px 1px 2px rgba(60, 64, 67, 0.3), 0px 1px 3px 1px rgba(60, 64, 67, 0.15);\n",
       "      fill: #174EA6;\n",
       "    }\n",
       "\n",
       "    [theme=dark] .colab-df-convert {\n",
       "      background-color: #3B4455;\n",
       "      fill: #D2E3FC;\n",
       "    }\n",
       "\n",
       "    [theme=dark] .colab-df-convert:hover {\n",
       "      background-color: #434B5C;\n",
       "      box-shadow: 0px 1px 3px 1px rgba(0, 0, 0, 0.15);\n",
       "      filter: drop-shadow(0px 1px 2px rgba(0, 0, 0, 0.3));\n",
       "      fill: #FFFFFF;\n",
       "    }\n",
       "  </style>\n",
       "\n",
       "      <script>\n",
       "        const buttonEl =\n",
       "          document.querySelector('#df-1527b76a-a572-44c5-90e9-abef876e9995 button.colab-df-convert');\n",
       "        buttonEl.style.display =\n",
       "          google.colab.kernel.accessAllowed ? 'block' : 'none';\n",
       "\n",
       "        async function convertToInteractive(key) {\n",
       "          const element = document.querySelector('#df-1527b76a-a572-44c5-90e9-abef876e9995');\n",
       "          const dataTable =\n",
       "            await google.colab.kernel.invokeFunction('convertToInteractive',\n",
       "                                                     [key], {});\n",
       "          if (!dataTable) return;\n",
       "\n",
       "          const docLinkHtml = 'Like what you see? Visit the ' +\n",
       "            '<a target=\"_blank\" href=https://colab.research.google.com/notebooks/data_table.ipynb>data table notebook</a>'\n",
       "            + ' to learn more about interactive tables.';\n",
       "          element.innerHTML = '';\n",
       "          dataTable['output_type'] = 'display_data';\n",
       "          await google.colab.output.renderOutput(dataTable, element);\n",
       "          const docLink = document.createElement('div');\n",
       "          docLink.innerHTML = docLinkHtml;\n",
       "          element.appendChild(docLink);\n",
       "        }\n",
       "      </script>\n",
       "    </div>\n",
       "  </div>\n",
       "  "
      ],
      "text/plain": [
       "                                            sentence    label\n",
       "0                            i didnt feel humiliated  sadness\n",
       "1  i can go from feeling so hopeless to so damned...  sadness\n",
       "2   im grabbing a minute to post i feel greedy wrong    anger\n",
       "3  i am ever feeling nostalgic about the fireplac...     love\n",
       "4                               i am feeling grouchy    anger"
      ]
     },
     "execution_count": 4,
     "metadata": {},
     "output_type": "execute_result"
    }
   ],
   "source": [
    "#Read data from drive\n",
    "\n",
    "#df = pd.read_csv(r\"C:\\Users\\William\\Desktop\\jo\\nci\\sem2\\dmml2\\project_emotion\\dataset\\train.txt\")\n",
    "df_train = pd.read_csv(r\"/content/drive/MyDrive/datasets/emotion_dataset/train.txt\", delimiter=';', header=None, names=['sentence','label'])\n",
    "df_test = pd.read_csv(r\"/content/drive/MyDrive/datasets/emotion_dataset/test.txt\", delimiter=';', header=None, names=['sentence','label'])\n",
    "\n",
    "df_train.head(5)"
   ]
  },
  {
   "cell_type": "markdown",
   "id": "e1yqnyXNdUho",
   "metadata": {
    "id": "e1yqnyXNdUho"
   },
   "source": [
    "# Data Cleaning"
   ]
  },
  {
   "cell_type": "code",
   "execution_count": null,
   "id": "74qZnOGvov4I",
   "metadata": {
    "colab": {
     "base_uri": "https://localhost:8080/"
    },
    "id": "74qZnOGvov4I",
    "outputId": "913c40d4-e24d-49bc-acd9-b4c930956a1e"
   },
   "outputs": [
    {
     "data": {
      "text/plain": [
       "sentence    0\n",
       "label       0\n",
       "dtype: int64"
      ]
     },
     "execution_count": 5,
     "metadata": {},
     "output_type": "execute_result"
    }
   ],
   "source": [
    "#Missing values in training set\n",
    "df_train.isnull().sum()\n",
    "#Missing values in test set\n",
    "df_test.isnull().sum()"
   ]
  },
  {
   "cell_type": "code",
   "execution_count": null,
   "id": "vQOAWgqByryB",
   "metadata": {
    "id": "vQOAWgqByryB"
   },
   "outputs": [],
   "source": [
    "#Data cleaning \n",
    "#The bert model will handle uncased and cased letters . \n",
    "#There is not much data processing required with bert models. \n",
    "#Stopwords are kept to identify the context.Lemmetization and stemming also not required.\n",
    "\n",
    "def clean(text):\n",
    "     # Just keep letters and important punctuation\n",
    "    text = re.sub(r\"[^a-zA-Z.!?']\", ' ', text)\n",
    "    # Remove additional spaces\n",
    "    text = re.sub(r\"\\s+\", ' ', text)\n",
    "    return text \n"
   ]
  },
  {
   "cell_type": "code",
   "execution_count": null,
   "id": "hpR1ode1yr4M",
   "metadata": {
    "colab": {
     "base_uri": "https://localhost:8080/",
     "height": 35
    },
    "id": "hpR1ode1yr4M",
    "outputId": "551cc192-b67d-4b96-c44a-98c76f0e7f9e"
   },
   "outputs": [
    {
     "data": {
      "application/vnd.google.colaboratory.intrinsic+json": {
       "type": "string"
      },
      "text/plain": [
       "'i hhh uuu uuu ?.!'"
      ]
     },
     "execution_count": 23,
     "metadata": {},
     "output_type": "execute_result"
    }
   ],
   "source": [
    "t=clean(\"i hhh uuu   uuu&?.!\")\n",
    "t"
   ]
  },
  {
   "cell_type": "code",
   "execution_count": null,
   "id": "DIJXlsjsLMRz",
   "metadata": {
    "colab": {
     "base_uri": "https://localhost:8080/",
     "height": 206
    },
    "id": "DIJXlsjsLMRz",
    "outputId": "234cb450-b2bf-4339-e602-22ae75ec2825"
   },
   "outputs": [
    {
     "data": {
      "text/html": [
       "\n",
       "  <div id=\"df-f295c6a4-0cda-421c-9f2e-a9fb5febe2dd\">\n",
       "    <div class=\"colab-df-container\">\n",
       "      <div>\n",
       "<style scoped>\n",
       "    .dataframe tbody tr th:only-of-type {\n",
       "        vertical-align: middle;\n",
       "    }\n",
       "\n",
       "    .dataframe tbody tr th {\n",
       "        vertical-align: top;\n",
       "    }\n",
       "\n",
       "    .dataframe thead th {\n",
       "        text-align: right;\n",
       "    }\n",
       "</style>\n",
       "<table border=\"1\" class=\"dataframe\">\n",
       "  <thead>\n",
       "    <tr style=\"text-align: right;\">\n",
       "      <th></th>\n",
       "      <th>sentence</th>\n",
       "      <th>label</th>\n",
       "    </tr>\n",
       "  </thead>\n",
       "  <tbody>\n",
       "    <tr>\n",
       "      <th>0</th>\n",
       "      <td>im feeling rather rotten so im not very ambiti...</td>\n",
       "      <td>sadness</td>\n",
       "    </tr>\n",
       "    <tr>\n",
       "      <th>1</th>\n",
       "      <td>im updating my blog because i feel shitty</td>\n",
       "      <td>sadness</td>\n",
       "    </tr>\n",
       "    <tr>\n",
       "      <th>2</th>\n",
       "      <td>i never make her separate from me because i do...</td>\n",
       "      <td>sadness</td>\n",
       "    </tr>\n",
       "    <tr>\n",
       "      <th>3</th>\n",
       "      <td>i left with my bouquet of red and yellow tulip...</td>\n",
       "      <td>joy</td>\n",
       "    </tr>\n",
       "    <tr>\n",
       "      <th>4</th>\n",
       "      <td>i was feeling a little vain when i did this one</td>\n",
       "      <td>sadness</td>\n",
       "    </tr>\n",
       "  </tbody>\n",
       "</table>\n",
       "</div>\n",
       "      <button class=\"colab-df-convert\" onclick=\"convertToInteractive('df-f295c6a4-0cda-421c-9f2e-a9fb5febe2dd')\"\n",
       "              title=\"Convert this dataframe to an interactive table.\"\n",
       "              style=\"display:none;\">\n",
       "        \n",
       "  <svg xmlns=\"http://www.w3.org/2000/svg\" height=\"24px\"viewBox=\"0 0 24 24\"\n",
       "       width=\"24px\">\n",
       "    <path d=\"M0 0h24v24H0V0z\" fill=\"none\"/>\n",
       "    <path d=\"M18.56 5.44l.94 2.06.94-2.06 2.06-.94-2.06-.94-.94-2.06-.94 2.06-2.06.94zm-11 1L8.5 8.5l.94-2.06 2.06-.94-2.06-.94L8.5 2.5l-.94 2.06-2.06.94zm10 10l.94 2.06.94-2.06 2.06-.94-2.06-.94-.94-2.06-.94 2.06-2.06.94z\"/><path d=\"M17.41 7.96l-1.37-1.37c-.4-.4-.92-.59-1.43-.59-.52 0-1.04.2-1.43.59L10.3 9.45l-7.72 7.72c-.78.78-.78 2.05 0 2.83L4 21.41c.39.39.9.59 1.41.59.51 0 1.02-.2 1.41-.59l7.78-7.78 2.81-2.81c.8-.78.8-2.07 0-2.86zM5.41 20L4 18.59l7.72-7.72 1.47 1.35L5.41 20z\"/>\n",
       "  </svg>\n",
       "      </button>\n",
       "      \n",
       "  <style>\n",
       "    .colab-df-container {\n",
       "      display:flex;\n",
       "      flex-wrap:wrap;\n",
       "      gap: 12px;\n",
       "    }\n",
       "\n",
       "    .colab-df-convert {\n",
       "      background-color: #E8F0FE;\n",
       "      border: none;\n",
       "      border-radius: 50%;\n",
       "      cursor: pointer;\n",
       "      display: none;\n",
       "      fill: #1967D2;\n",
       "      height: 32px;\n",
       "      padding: 0 0 0 0;\n",
       "      width: 32px;\n",
       "    }\n",
       "\n",
       "    .colab-df-convert:hover {\n",
       "      background-color: #E2EBFA;\n",
       "      box-shadow: 0px 1px 2px rgba(60, 64, 67, 0.3), 0px 1px 3px 1px rgba(60, 64, 67, 0.15);\n",
       "      fill: #174EA6;\n",
       "    }\n",
       "\n",
       "    [theme=dark] .colab-df-convert {\n",
       "      background-color: #3B4455;\n",
       "      fill: #D2E3FC;\n",
       "    }\n",
       "\n",
       "    [theme=dark] .colab-df-convert:hover {\n",
       "      background-color: #434B5C;\n",
       "      box-shadow: 0px 1px 3px 1px rgba(0, 0, 0, 0.15);\n",
       "      filter: drop-shadow(0px 1px 2px rgba(0, 0, 0, 0.3));\n",
       "      fill: #FFFFFF;\n",
       "    }\n",
       "  </style>\n",
       "\n",
       "      <script>\n",
       "        const buttonEl =\n",
       "          document.querySelector('#df-f295c6a4-0cda-421c-9f2e-a9fb5febe2dd button.colab-df-convert');\n",
       "        buttonEl.style.display =\n",
       "          google.colab.kernel.accessAllowed ? 'block' : 'none';\n",
       "\n",
       "        async function convertToInteractive(key) {\n",
       "          const element = document.querySelector('#df-f295c6a4-0cda-421c-9f2e-a9fb5febe2dd');\n",
       "          const dataTable =\n",
       "            await google.colab.kernel.invokeFunction('convertToInteractive',\n",
       "                                                     [key], {});\n",
       "          if (!dataTable) return;\n",
       "\n",
       "          const docLinkHtml = 'Like what you see? Visit the ' +\n",
       "            '<a target=\"_blank\" href=https://colab.research.google.com/notebooks/data_table.ipynb>data table notebook</a>'\n",
       "            + ' to learn more about interactive tables.';\n",
       "          element.innerHTML = '';\n",
       "          dataTable['output_type'] = 'display_data';\n",
       "          await google.colab.output.renderOutput(dataTable, element);\n",
       "          const docLink = document.createElement('div');\n",
       "          docLink.innerHTML = docLinkHtml;\n",
       "          element.appendChild(docLink);\n",
       "        }\n",
       "      </script>\n",
       "    </div>\n",
       "  </div>\n",
       "  "
      ],
      "text/plain": [
       "                                            sentence    label\n",
       "0  im feeling rather rotten so im not very ambiti...  sadness\n",
       "1          im updating my blog because i feel shitty  sadness\n",
       "2  i never make her separate from me because i do...  sadness\n",
       "3  i left with my bouquet of red and yellow tulip...      joy\n",
       "4    i was feeling a little vain when i did this one  sadness"
      ]
     },
     "execution_count": 7,
     "metadata": {},
     "output_type": "execute_result"
    }
   ],
   "source": [
    "df_test.head(5)"
   ]
  },
  {
   "cell_type": "markdown",
   "id": "vhj4SDLmdcP_",
   "metadata": {
    "id": "vhj4SDLmdcP_"
   },
   "source": [
    "# EDA and Data Preprocessing"
   ]
  },
  {
   "cell_type": "code",
   "execution_count": null,
   "id": "dd5e6247",
   "metadata": {
    "colab": {
     "base_uri": "https://localhost:8080/"
    },
    "id": "dd5e6247",
    "outputId": "c0f267f8-0d2e-4d01-9410-daa11b159cfd"
   },
   "outputs": [
    {
     "data": {
      "text/plain": [
       "joy         5362\n",
       "sadness     4666\n",
       "anger       2159\n",
       "fear        1937\n",
       "love        1304\n",
       "surprise     572\n",
       "Name: label, dtype: int64"
      ]
     },
     "execution_count": 8,
     "metadata": {},
     "output_type": "execute_result"
    }
   ],
   "source": [
    "df_train['label'].value_counts()"
   ]
  },
  {
   "cell_type": "code",
   "execution_count": null,
   "id": "5860a1c6",
   "metadata": {
    "colab": {
     "base_uri": "https://localhost:8080/"
    },
    "id": "5860a1c6",
    "outputId": "8f2e67a9-2646-4775-e42f-c67ad5dc405d"
   },
   "outputs": [
    {
     "data": {
      "text/plain": [
       "joy         695\n",
       "sadness     581\n",
       "anger       275\n",
       "fear        224\n",
       "love        159\n",
       "surprise     66\n",
       "Name: label, dtype: int64"
      ]
     },
     "execution_count": 9,
     "metadata": {},
     "output_type": "execute_result"
    }
   ],
   "source": [
    "df_test['label'].value_counts()"
   ]
  },
  {
   "cell_type": "code",
   "execution_count": null,
   "id": "58f15d6a",
   "metadata": {
    "id": "58f15d6a"
   },
   "outputs": [],
   "source": [
    "from sklearn.preprocessing import LabelEncoder\n",
    "labelencoder = LabelEncoder()\n",
    "df_train['label_enc'] = labelencoder.fit_transform(df_train['label'])\n",
    "df_test['label_enc'] = labelencoder.fit_transform(df_test['label'])\n"
   ]
  },
  {
   "cell_type": "code",
   "execution_count": null,
   "id": "6e827726",
   "metadata": {
    "id": "6e827726"
   },
   "outputs": [],
   "source": [
    "df_train.rename(columns={'label':'label_desc'},inplace=True)\n",
    "df_train.rename(columns={'label_enc':'label'},inplace=True)\n",
    "df_test.rename(columns={'label':'label_desc'},inplace=True)\n",
    "df_test.rename(columns={'label_enc':'label'},inplace=True)\n",
    "\n"
   ]
  },
  {
   "cell_type": "code",
   "execution_count": null,
   "id": "jQPCdLtOLjsU",
   "metadata": {
    "colab": {
     "base_uri": "https://localhost:8080/",
     "height": 206
    },
    "id": "jQPCdLtOLjsU",
    "outputId": "35b2470f-8a14-4471-b4f0-6355834fef43"
   },
   "outputs": [
    {
     "data": {
      "text/html": [
       "\n",
       "  <div id=\"df-9821bb24-817c-4674-8380-00fd85a3bee7\">\n",
       "    <div class=\"colab-df-container\">\n",
       "      <div>\n",
       "<style scoped>\n",
       "    .dataframe tbody tr th:only-of-type {\n",
       "        vertical-align: middle;\n",
       "    }\n",
       "\n",
       "    .dataframe tbody tr th {\n",
       "        vertical-align: top;\n",
       "    }\n",
       "\n",
       "    .dataframe thead th {\n",
       "        text-align: right;\n",
       "    }\n",
       "</style>\n",
       "<table border=\"1\" class=\"dataframe\">\n",
       "  <thead>\n",
       "    <tr style=\"text-align: right;\">\n",
       "      <th></th>\n",
       "      <th>sentence</th>\n",
       "      <th>label_desc</th>\n",
       "      <th>label</th>\n",
       "    </tr>\n",
       "  </thead>\n",
       "  <tbody>\n",
       "    <tr>\n",
       "      <th>0</th>\n",
       "      <td>i didnt feel humiliated</td>\n",
       "      <td>sadness</td>\n",
       "      <td>4</td>\n",
       "    </tr>\n",
       "    <tr>\n",
       "      <th>1</th>\n",
       "      <td>i can go from feeling so hopeless to so damned...</td>\n",
       "      <td>sadness</td>\n",
       "      <td>4</td>\n",
       "    </tr>\n",
       "    <tr>\n",
       "      <th>2</th>\n",
       "      <td>im grabbing a minute to post i feel greedy wrong</td>\n",
       "      <td>anger</td>\n",
       "      <td>0</td>\n",
       "    </tr>\n",
       "    <tr>\n",
       "      <th>3</th>\n",
       "      <td>i am ever feeling nostalgic about the fireplac...</td>\n",
       "      <td>love</td>\n",
       "      <td>3</td>\n",
       "    </tr>\n",
       "    <tr>\n",
       "      <th>4</th>\n",
       "      <td>i am feeling grouchy</td>\n",
       "      <td>anger</td>\n",
       "      <td>0</td>\n",
       "    </tr>\n",
       "  </tbody>\n",
       "</table>\n",
       "</div>\n",
       "      <button class=\"colab-df-convert\" onclick=\"convertToInteractive('df-9821bb24-817c-4674-8380-00fd85a3bee7')\"\n",
       "              title=\"Convert this dataframe to an interactive table.\"\n",
       "              style=\"display:none;\">\n",
       "        \n",
       "  <svg xmlns=\"http://www.w3.org/2000/svg\" height=\"24px\"viewBox=\"0 0 24 24\"\n",
       "       width=\"24px\">\n",
       "    <path d=\"M0 0h24v24H0V0z\" fill=\"none\"/>\n",
       "    <path d=\"M18.56 5.44l.94 2.06.94-2.06 2.06-.94-2.06-.94-.94-2.06-.94 2.06-2.06.94zm-11 1L8.5 8.5l.94-2.06 2.06-.94-2.06-.94L8.5 2.5l-.94 2.06-2.06.94zm10 10l.94 2.06.94-2.06 2.06-.94-2.06-.94-.94-2.06-.94 2.06-2.06.94z\"/><path d=\"M17.41 7.96l-1.37-1.37c-.4-.4-.92-.59-1.43-.59-.52 0-1.04.2-1.43.59L10.3 9.45l-7.72 7.72c-.78.78-.78 2.05 0 2.83L4 21.41c.39.39.9.59 1.41.59.51 0 1.02-.2 1.41-.59l7.78-7.78 2.81-2.81c.8-.78.8-2.07 0-2.86zM5.41 20L4 18.59l7.72-7.72 1.47 1.35L5.41 20z\"/>\n",
       "  </svg>\n",
       "      </button>\n",
       "      \n",
       "  <style>\n",
       "    .colab-df-container {\n",
       "      display:flex;\n",
       "      flex-wrap:wrap;\n",
       "      gap: 12px;\n",
       "    }\n",
       "\n",
       "    .colab-df-convert {\n",
       "      background-color: #E8F0FE;\n",
       "      border: none;\n",
       "      border-radius: 50%;\n",
       "      cursor: pointer;\n",
       "      display: none;\n",
       "      fill: #1967D2;\n",
       "      height: 32px;\n",
       "      padding: 0 0 0 0;\n",
       "      width: 32px;\n",
       "    }\n",
       "\n",
       "    .colab-df-convert:hover {\n",
       "      background-color: #E2EBFA;\n",
       "      box-shadow: 0px 1px 2px rgba(60, 64, 67, 0.3), 0px 1px 3px 1px rgba(60, 64, 67, 0.15);\n",
       "      fill: #174EA6;\n",
       "    }\n",
       "\n",
       "    [theme=dark] .colab-df-convert {\n",
       "      background-color: #3B4455;\n",
       "      fill: #D2E3FC;\n",
       "    }\n",
       "\n",
       "    [theme=dark] .colab-df-convert:hover {\n",
       "      background-color: #434B5C;\n",
       "      box-shadow: 0px 1px 3px 1px rgba(0, 0, 0, 0.15);\n",
       "      filter: drop-shadow(0px 1px 2px rgba(0, 0, 0, 0.3));\n",
       "      fill: #FFFFFF;\n",
       "    }\n",
       "  </style>\n",
       "\n",
       "      <script>\n",
       "        const buttonEl =\n",
       "          document.querySelector('#df-9821bb24-817c-4674-8380-00fd85a3bee7 button.colab-df-convert');\n",
       "        buttonEl.style.display =\n",
       "          google.colab.kernel.accessAllowed ? 'block' : 'none';\n",
       "\n",
       "        async function convertToInteractive(key) {\n",
       "          const element = document.querySelector('#df-9821bb24-817c-4674-8380-00fd85a3bee7');\n",
       "          const dataTable =\n",
       "            await google.colab.kernel.invokeFunction('convertToInteractive',\n",
       "                                                     [key], {});\n",
       "          if (!dataTable) return;\n",
       "\n",
       "          const docLinkHtml = 'Like what you see? Visit the ' +\n",
       "            '<a target=\"_blank\" href=https://colab.research.google.com/notebooks/data_table.ipynb>data table notebook</a>'\n",
       "            + ' to learn more about interactive tables.';\n",
       "          element.innerHTML = '';\n",
       "          dataTable['output_type'] = 'display_data';\n",
       "          await google.colab.output.renderOutput(dataTable, element);\n",
       "          const docLink = document.createElement('div');\n",
       "          docLink.innerHTML = docLinkHtml;\n",
       "          element.appendChild(docLink);\n",
       "        }\n",
       "      </script>\n",
       "    </div>\n",
       "  </div>\n",
       "  "
      ],
      "text/plain": [
       "                                            sentence label_desc  label\n",
       "0                            i didnt feel humiliated    sadness      4\n",
       "1  i can go from feeling so hopeless to so damned...    sadness      4\n",
       "2   im grabbing a minute to post i feel greedy wrong      anger      0\n",
       "3  i am ever feeling nostalgic about the fireplac...       love      3\n",
       "4                               i am feeling grouchy      anger      0"
      ]
     },
     "execution_count": 12,
     "metadata": {},
     "output_type": "execute_result"
    }
   ],
   "source": [
    "df_train.head(5)"
   ]
  },
  {
   "cell_type": "code",
   "execution_count": null,
   "id": "156f2f79",
   "metadata": {
    "colab": {
     "base_uri": "https://localhost:8080/",
     "height": 237
    },
    "id": "156f2f79",
    "outputId": "9018e939-0b01-461e-9c4e-af82f290c996"
   },
   "outputs": [
    {
     "data": {
      "text/html": [
       "\n",
       "  <div id=\"df-cfcbd5c7-3d61-4b5b-8afb-b41ff383d713\">\n",
       "    <div class=\"colab-df-container\">\n",
       "      <div>\n",
       "<style scoped>\n",
       "    .dataframe tbody tr th:only-of-type {\n",
       "        vertical-align: middle;\n",
       "    }\n",
       "\n",
       "    .dataframe tbody tr th {\n",
       "        vertical-align: top;\n",
       "    }\n",
       "\n",
       "    .dataframe thead th {\n",
       "        text-align: right;\n",
       "    }\n",
       "</style>\n",
       "<table border=\"1\" class=\"dataframe\">\n",
       "  <thead>\n",
       "    <tr style=\"text-align: right;\">\n",
       "      <th></th>\n",
       "      <th>label</th>\n",
       "      <th>label_desc</th>\n",
       "    </tr>\n",
       "  </thead>\n",
       "  <tbody>\n",
       "    <tr>\n",
       "      <th>2</th>\n",
       "      <td>0</td>\n",
       "      <td>anger</td>\n",
       "    </tr>\n",
       "    <tr>\n",
       "      <th>7</th>\n",
       "      <td>1</td>\n",
       "      <td>fear</td>\n",
       "    </tr>\n",
       "    <tr>\n",
       "      <th>8</th>\n",
       "      <td>2</td>\n",
       "      <td>joy</td>\n",
       "    </tr>\n",
       "    <tr>\n",
       "      <th>3</th>\n",
       "      <td>3</td>\n",
       "      <td>love</td>\n",
       "    </tr>\n",
       "    <tr>\n",
       "      <th>0</th>\n",
       "      <td>4</td>\n",
       "      <td>sadness</td>\n",
       "    </tr>\n",
       "    <tr>\n",
       "      <th>6</th>\n",
       "      <td>5</td>\n",
       "      <td>surprise</td>\n",
       "    </tr>\n",
       "  </tbody>\n",
       "</table>\n",
       "</div>\n",
       "      <button class=\"colab-df-convert\" onclick=\"convertToInteractive('df-cfcbd5c7-3d61-4b5b-8afb-b41ff383d713')\"\n",
       "              title=\"Convert this dataframe to an interactive table.\"\n",
       "              style=\"display:none;\">\n",
       "        \n",
       "  <svg xmlns=\"http://www.w3.org/2000/svg\" height=\"24px\"viewBox=\"0 0 24 24\"\n",
       "       width=\"24px\">\n",
       "    <path d=\"M0 0h24v24H0V0z\" fill=\"none\"/>\n",
       "    <path d=\"M18.56 5.44l.94 2.06.94-2.06 2.06-.94-2.06-.94-.94-2.06-.94 2.06-2.06.94zm-11 1L8.5 8.5l.94-2.06 2.06-.94-2.06-.94L8.5 2.5l-.94 2.06-2.06.94zm10 10l.94 2.06.94-2.06 2.06-.94-2.06-.94-.94-2.06-.94 2.06-2.06.94z\"/><path d=\"M17.41 7.96l-1.37-1.37c-.4-.4-.92-.59-1.43-.59-.52 0-1.04.2-1.43.59L10.3 9.45l-7.72 7.72c-.78.78-.78 2.05 0 2.83L4 21.41c.39.39.9.59 1.41.59.51 0 1.02-.2 1.41-.59l7.78-7.78 2.81-2.81c.8-.78.8-2.07 0-2.86zM5.41 20L4 18.59l7.72-7.72 1.47 1.35L5.41 20z\"/>\n",
       "  </svg>\n",
       "      </button>\n",
       "      \n",
       "  <style>\n",
       "    .colab-df-container {\n",
       "      display:flex;\n",
       "      flex-wrap:wrap;\n",
       "      gap: 12px;\n",
       "    }\n",
       "\n",
       "    .colab-df-convert {\n",
       "      background-color: #E8F0FE;\n",
       "      border: none;\n",
       "      border-radius: 50%;\n",
       "      cursor: pointer;\n",
       "      display: none;\n",
       "      fill: #1967D2;\n",
       "      height: 32px;\n",
       "      padding: 0 0 0 0;\n",
       "      width: 32px;\n",
       "    }\n",
       "\n",
       "    .colab-df-convert:hover {\n",
       "      background-color: #E2EBFA;\n",
       "      box-shadow: 0px 1px 2px rgba(60, 64, 67, 0.3), 0px 1px 3px 1px rgba(60, 64, 67, 0.15);\n",
       "      fill: #174EA6;\n",
       "    }\n",
       "\n",
       "    [theme=dark] .colab-df-convert {\n",
       "      background-color: #3B4455;\n",
       "      fill: #D2E3FC;\n",
       "    }\n",
       "\n",
       "    [theme=dark] .colab-df-convert:hover {\n",
       "      background-color: #434B5C;\n",
       "      box-shadow: 0px 1px 3px 1px rgba(0, 0, 0, 0.15);\n",
       "      filter: drop-shadow(0px 1px 2px rgba(0, 0, 0, 0.3));\n",
       "      fill: #FFFFFF;\n",
       "    }\n",
       "  </style>\n",
       "\n",
       "      <script>\n",
       "        const buttonEl =\n",
       "          document.querySelector('#df-cfcbd5c7-3d61-4b5b-8afb-b41ff383d713 button.colab-df-convert');\n",
       "        buttonEl.style.display =\n",
       "          google.colab.kernel.accessAllowed ? 'block' : 'none';\n",
       "\n",
       "        async function convertToInteractive(key) {\n",
       "          const element = document.querySelector('#df-cfcbd5c7-3d61-4b5b-8afb-b41ff383d713');\n",
       "          const dataTable =\n",
       "            await google.colab.kernel.invokeFunction('convertToInteractive',\n",
       "                                                     [key], {});\n",
       "          if (!dataTable) return;\n",
       "\n",
       "          const docLinkHtml = 'Like what you see? Visit the ' +\n",
       "            '<a target=\"_blank\" href=https://colab.research.google.com/notebooks/data_table.ipynb>data table notebook</a>'\n",
       "            + ' to learn more about interactive tables.';\n",
       "          element.innerHTML = '';\n",
       "          dataTable['output_type'] = 'display_data';\n",
       "          await google.colab.output.renderOutput(dataTable, element);\n",
       "          const docLink = document.createElement('div');\n",
       "          docLink.innerHTML = docLinkHtml;\n",
       "          element.appendChild(docLink);\n",
       "        }\n",
       "      </script>\n",
       "    </div>\n",
       "  </div>\n",
       "  "
      ],
      "text/plain": [
       "   label label_desc\n",
       "2      0      anger\n",
       "7      1       fear\n",
       "8      2        joy\n",
       "3      3       love\n",
       "0      4    sadness\n",
       "6      5   surprise"
      ]
     },
     "execution_count": 15,
     "metadata": {},
     "output_type": "execute_result"
    }
   ],
   "source": [
    "classes"
   ]
  },
  {
   "cell_type": "code",
   "execution_count": null,
   "id": "5aa5de98",
   "metadata": {
    "id": "5aa5de98",
    "scrolled": true
   },
   "outputs": [],
   "source": [
    "classes=df_train[[\"label\",\"label_desc\"]].drop_duplicates().sort_values(by=['label'])"
   ]
  },
  {
   "cell_type": "code",
   "execution_count": null,
   "id": "AawuHX52LqOF",
   "metadata": {
    "colab": {
     "base_uri": "https://localhost:8080/",
     "height": 545
    },
    "id": "AawuHX52LqOF",
    "outputId": "8ddeced4-736a-4c14-8c27-3517937359fd"
   },
   "outputs": [
    {
     "data": {
      "image/png": "[encoded data removed]",
      "text/plain": [
       "<Figure size 432x288 with 1 Axes>"
      ]
     },
     "metadata": {
      "needs_background": "light"
     },
     "output_type": "display_data"
    },
    {
     "data": {
      "image/png": "[encoded data removed]",
      "text/plain": [
       "<Figure size 432x288 with 1 Axes>"
      ]
     },
     "metadata": {
      "needs_background": "light"
     },
     "output_type": "display_data"
    }
   ],
   "source": [
    "# Visualize classes counts\n",
    "\n",
    "colors = np.array([\"gray\", 'orangered', 'hotpink', 'gold', 'teal', 'cornflowerblue'])\n",
    "\n",
    "plt.bar(df_train['label_desc'].unique(),height=df_train['label_desc'].value_counts(), color=colors)\n",
    "plt.title(\"Training data - classes counts\")\n",
    "plt.show()\n",
    "\n",
    "plt.bar(df_test['label_desc'].unique(),height=df_test['label_desc'].value_counts(), color=colors)\n",
    "plt.title(\"Testing data - classes counts\")\n",
    "plt.show()\n",
    "\n"
   ]
  },
  {
   "cell_type": "code",
   "execution_count": null,
   "id": "2c7a71d8",
   "metadata": {
    "id": "2c7a71d8"
   },
   "outputs": [],
   "source": [
    "df1=df_train[[\"sentence\",\"label\"]]\n",
    "df2=df_test[[\"sentence\",\"label\"]]\n"
   ]
  },
  {
   "cell_type": "code",
   "execution_count": null,
   "id": "fc06f41f",
   "metadata": {
    "id": "fc06f41f"
   },
   "outputs": [],
   "source": [
    "X_train=df1[\"sentence\"].apply(clean)\n",
    "Y_train=df1[\"label\"]\n",
    "#X_train=df1.sentence\n",
    "type(X_train)\n",
    "X_train = pd.DataFrame(data=X_train, columns=['sentence'])\n",
    "Y_train = pd.DataFrame(data=Y_train, columns=['label'])"
   ]
  },
  {
   "cell_type": "code",
   "execution_count": null,
   "id": "ab4455be",
   "metadata": {
    "colab": {
     "base_uri": "https://localhost:8080/"
    },
    "id": "ab4455be",
    "outputId": "c8138f59-1366-4e24-c945-a5a256684182"
   },
   "outputs": [
    {
     "name": "stdout",
     "output_type": "stream",
     "text": [
      "<class 'pandas.core.series.Series'>\n"
     ]
    }
   ],
   "source": [
    "X_test=df2[\"sentence\"].apply(clean)\n",
    "print(type(X_test))\n",
    "Y_test=df2[\"label\"]\n",
    "#X_test=df_test.sentence\n",
    "#type(X_test)\n"
   ]
  },
  {
   "cell_type": "code",
   "execution_count": null,
   "id": "be8cfa38",
   "metadata": {
    "colab": {
     "base_uri": "https://localhost:8080/"
    },
    "id": "be8cfa38",
    "outputId": "feed9a19-e778-4e83-d96f-723a59e20268"
   },
   "outputs": [
    {
     "name": "stdout",
     "output_type": "stream",
     "text": [
      "The number of classes before Counter({2: 5362, 4: 4666, 0: 2159, 1: 1937, 3: 1304, 5: 572})\n",
      "The number of classes after Counter({4: 5362, 0: 5362, 3: 5362, 5: 5362, 1: 5362, 2: 5362})\n"
     ]
    }
   ],
   "source": [
    "#over sampling the train data\n",
    "sampling_strategy = {0: 5362, 1: 5362, 2: 5362,3:5362,4:5362,5:5362}\n",
    "os=RandomOverSampler(sampling_strategy=sampling_strategy)\n",
    "\n",
    "X_train_ns,Y_train_ns = os.fit_resample(X_train,Y_train)\n",
    "print(\"The number of classes before {}\".format(Counter(Y_train['label'])))\n",
    "print(\"The number of classes after {}\".format(Counter(Y_train_ns['label'])))"
   ]
  },
  {
   "cell_type": "code",
   "execution_count": null,
   "id": "7bafcf11",
   "metadata": {
    "colab": {
     "base_uri": "https://localhost:8080/"
    },
    "id": "7bafcf11",
    "outputId": "bcbb3d2a-1a80-4776-b44c-fe4603fca559"
   },
   "outputs": [
    {
     "data": {
      "text/plain": [
       "label\n",
       "0        5362\n",
       "1        5362\n",
       "2        5362\n",
       "3        5362\n",
       "4        5362\n",
       "5        5362\n",
       "dtype: int64"
      ]
     },
     "execution_count": 20,
     "metadata": {},
     "output_type": "execute_result"
    }
   ],
   "source": [
    "#Checking the counts after oversampling\n",
    "Y_train_ns.value_counts()"
   ]
  },
  {
   "cell_type": "code",
   "execution_count": null,
   "id": "a0bda5be",
   "metadata": {
    "colab": {
     "base_uri": "https://localhost:8080/",
     "height": 237
    },
    "id": "a0bda5be",
    "outputId": "329fa300-8ab5-41ce-f905-b2e05b320cbc"
   },
   "outputs": [
    {
     "data": {
      "text/html": [
       "\n",
       "  <div id=\"df-cf59446b-0dc7-438a-8b04-4b37bc308c60\">\n",
       "    <div class=\"colab-df-container\">\n",
       "      <div>\n",
       "<style scoped>\n",
       "    .dataframe tbody tr th:only-of-type {\n",
       "        vertical-align: middle;\n",
       "    }\n",
       "\n",
       "    .dataframe tbody tr th {\n",
       "        vertical-align: top;\n",
       "    }\n",
       "\n",
       "    .dataframe thead th {\n",
       "        text-align: right;\n",
       "    }\n",
       "</style>\n",
       "<table border=\"1\" class=\"dataframe\">\n",
       "  <thead>\n",
       "    <tr style=\"text-align: right;\">\n",
       "      <th></th>\n",
       "      <th>label</th>\n",
       "      <th>label_desc</th>\n",
       "      <th>label_desc</th>\n",
       "    </tr>\n",
       "  </thead>\n",
       "  <tbody>\n",
       "    <tr>\n",
       "      <th>2</th>\n",
       "      <td>0</td>\n",
       "      <td>anger</td>\n",
       "      <td>0</td>\n",
       "    </tr>\n",
       "    <tr>\n",
       "      <th>7</th>\n",
       "      <td>1</td>\n",
       "      <td>fear</td>\n",
       "      <td>1</td>\n",
       "    </tr>\n",
       "    <tr>\n",
       "      <th>8</th>\n",
       "      <td>2</td>\n",
       "      <td>joy</td>\n",
       "      <td>2</td>\n",
       "    </tr>\n",
       "    <tr>\n",
       "      <th>3</th>\n",
       "      <td>3</td>\n",
       "      <td>love</td>\n",
       "      <td>3</td>\n",
       "    </tr>\n",
       "    <tr>\n",
       "      <th>0</th>\n",
       "      <td>4</td>\n",
       "      <td>sadness</td>\n",
       "      <td>4</td>\n",
       "    </tr>\n",
       "    <tr>\n",
       "      <th>6</th>\n",
       "      <td>5</td>\n",
       "      <td>surprise</td>\n",
       "      <td>5</td>\n",
       "    </tr>\n",
       "  </tbody>\n",
       "</table>\n",
       "</div>\n",
       "      <button class=\"colab-df-convert\" onclick=\"convertToInteractive('df-cf59446b-0dc7-438a-8b04-4b37bc308c60')\"\n",
       "              title=\"Convert this dataframe to an interactive table.\"\n",
       "              style=\"display:none;\">\n",
       "        \n",
       "  <svg xmlns=\"http://www.w3.org/2000/svg\" height=\"24px\"viewBox=\"0 0 24 24\"\n",
       "       width=\"24px\">\n",
       "    <path d=\"M0 0h24v24H0V0z\" fill=\"none\"/>\n",
       "    <path d=\"M18.56 5.44l.94 2.06.94-2.06 2.06-.94-2.06-.94-.94-2.06-.94 2.06-2.06.94zm-11 1L8.5 8.5l.94-2.06 2.06-.94-2.06-.94L8.5 2.5l-.94 2.06-2.06.94zm10 10l.94 2.06.94-2.06 2.06-.94-2.06-.94-.94-2.06-.94 2.06-2.06.94z\"/><path d=\"M17.41 7.96l-1.37-1.37c-.4-.4-.92-.59-1.43-.59-.52 0-1.04.2-1.43.59L10.3 9.45l-7.72 7.72c-.78.78-.78 2.05 0 2.83L4 21.41c.39.39.9.59 1.41.59.51 0 1.02-.2 1.41-.59l7.78-7.78 2.81-2.81c.8-.78.8-2.07 0-2.86zM5.41 20L4 18.59l7.72-7.72 1.47 1.35L5.41 20z\"/>\n",
       "  </svg>\n",
       "      </button>\n",
       "      \n",
       "  <style>\n",
       "    .colab-df-container {\n",
       "      display:flex;\n",
       "      flex-wrap:wrap;\n",
       "      gap: 12px;\n",
       "    }\n",
       "\n",
       "    .colab-df-convert {\n",
       "      background-color: #E8F0FE;\n",
       "      border: none;\n",
       "      border-radius: 50%;\n",
       "      cursor: pointer;\n",
       "      display: none;\n",
       "      fill: #1967D2;\n",
       "      height: 32px;\n",
       "      padding: 0 0 0 0;\n",
       "      width: 32px;\n",
       "    }\n",
       "\n",
       "    .colab-df-convert:hover {\n",
       "      background-color: #E2EBFA;\n",
       "      box-shadow: 0px 1px 2px rgba(60, 64, 67, 0.3), 0px 1px 3px 1px rgba(60, 64, 67, 0.15);\n",
       "      fill: #174EA6;\n",
       "    }\n",
       "\n",
       "    [theme=dark] .colab-df-convert {\n",
       "      background-color: #3B4455;\n",
       "      fill: #D2E3FC;\n",
       "    }\n",
       "\n",
       "    [theme=dark] .colab-df-convert:hover {\n",
       "      background-color: #434B5C;\n",
       "      box-shadow: 0px 1px 3px 1px rgba(0, 0, 0, 0.15);\n",
       "      filter: drop-shadow(0px 1px 2px rgba(0, 0, 0, 0.3));\n",
       "      fill: #FFFFFF;\n",
       "    }\n",
       "  </style>\n",
       "\n",
       "      <script>\n",
       "        const buttonEl =\n",
       "          document.querySelector('#df-cf59446b-0dc7-438a-8b04-4b37bc308c60 button.colab-df-convert');\n",
       "        buttonEl.style.display =\n",
       "          google.colab.kernel.accessAllowed ? 'block' : 'none';\n",
       "\n",
       "        async function convertToInteractive(key) {\n",
       "          const element = document.querySelector('#df-cf59446b-0dc7-438a-8b04-4b37bc308c60');\n",
       "          const dataTable =\n",
       "            await google.colab.kernel.invokeFunction('convertToInteractive',\n",
       "                                                     [key], {});\n",
       "          if (!dataTable) return;\n",
       "\n",
       "          const docLinkHtml = 'Like what you see? Visit the ' +\n",
       "            '<a target=\"_blank\" href=https://colab.research.google.com/notebooks/data_table.ipynb>data table notebook</a>'\n",
       "            + ' to learn more about interactive tables.';\n",
       "          element.innerHTML = '';\n",
       "          dataTable['output_type'] = 'display_data';\n",
       "          await google.colab.output.renderOutput(dataTable, element);\n",
       "          const docLink = document.createElement('div');\n",
       "          docLink.innerHTML = docLinkHtml;\n",
       "          element.appendChild(docLink);\n",
       "        }\n",
       "      </script>\n",
       "    </div>\n",
       "  </div>\n",
       "  "
      ],
      "text/plain": [
       "   label  label_desc  label_desc\n",
       "2      0       anger           0\n",
       "7      1        fear           1\n",
       "8      2         joy           2\n",
       "3      3        love           3\n",
       "0      4     sadness           4\n",
       "6      5    surprise           5"
      ]
     },
     "execution_count": 104,
     "metadata": {},
     "output_type": "execute_result"
    }
   ],
   "source": [
    "classes\n"
   ]
  },
  {
   "cell_type": "code",
   "execution_count": null,
   "id": "e9214524",
   "metadata": {
    "colab": {
     "base_uri": "https://localhost:8080/"
    },
    "id": "e9214524",
    "outputId": "b2b95b1e-5fdf-4dd2-b70b-8a6bcc66f3fd"
   },
   "outputs": [
    {
     "data": {
      "text/plain": [
       "array([4, 2, 1, 0, 3, 5])"
      ]
     },
     "execution_count": 55,
     "metadata": {},
     "output_type": "execute_result"
    }
   ],
   "source": [
    "Y_test.unique()"
   ]
  },
  {
   "cell_type": "code",
   "execution_count": null,
   "id": "781da564",
   "metadata": {
    "id": "781da564"
   },
   "outputs": [],
   "source": [
    "#Converting the target variable to category\n",
    "y_train1=tf.keras.utils.to_categorical(Y_train_ns)\n",
    "y_test1=tf.keras.utils.to_categorical(Y_test)\n",
    "y_train2=tf.keras.utils.to_categorical(Y_train)"
   ]
  },
  {
   "cell_type": "markdown",
   "id": "B61pZJ2Wd70N",
   "metadata": {
    "id": "B61pZJ2Wd70N"
   },
   "source": [
    "# Load Pretrained Bert Encoder and Preprocessor"
   ]
  },
  {
   "cell_type": "code",
   "execution_count": null,
   "id": "cdc68e69",
   "metadata": {
    "id": "cdc68e69"
   },
   "outputs": [],
   "source": [
    "#Load the bert encoder and associated preprocessor models from tensorhub\n",
    "bert_encoder = hub.KerasLayer(\"https://tfhub.dev/tensorflow/small_bert/bert_en_uncased_L-4_H-512_A-8/1;\")\n",
    "bert_preprocess = hub.KerasLayer(\"https://tfhub.dev/tensorflow/bert_en_uncased_preprocess/3;\")"
   ]
  },
  {
   "cell_type": "code",
   "execution_count": null,
   "id": "24d8f71d",
   "metadata": {
    "id": "24d8f71d"
   },
   "outputs": [],
   "source": [
    "#Checking the bert encoder output\n",
    "preprocessed_text = bert_preprocess([\"500$ discount. hurry up\"])\n",
    "embedded_text= bert_encoder(preprocessed_text)['pooled_output']\n",
    "embedded_text\n"
   ]
  },
  {
   "cell_type": "code",
   "execution_count": null,
   "id": "376744a0",
   "metadata": {
    "colab": {
     "base_uri": "https://localhost:8080/"
    },
    "id": "376744a0",
    "outputId": "3f498fea-56a6-4d29-cd9d-15bf0da19049"
   },
   "outputs": [
    {
     "data": {
      "text/plain": [
       "32172"
      ]
     },
     "execution_count": 24,
     "metadata": {},
     "output_type": "execute_result"
    }
   ],
   "source": [
    "#converting series to dataframe\n",
    "X_train_ns=X_train_ns.squeeze()\n",
    "type(y_train1)\n",
    "len(X_train_ns)"
   ]
  },
  {
   "cell_type": "code",
   "execution_count": null,
   "id": "hh59oLhpTHzX",
   "metadata": {
    "colab": {
     "base_uri": "https://localhost:8080/"
    },
    "id": "hh59oLhpTHzX",
    "outputId": "83c52b39-6d28-4222-94ef-8b263d65e540"
   },
   "outputs": [
    {
     "data": {
      "text/plain": [
       "array([[0., 0., 0., 0., 1., 0.],\n",
       "       [0., 0., 0., 0., 1., 0.],\n",
       "       [0., 0., 0., 0., 1., 0.],\n",
       "       ...,\n",
       "       [0., 0., 1., 0., 0., 0.],\n",
       "       [0., 0., 1., 0., 0., 0.],\n",
       "       [0., 1., 0., 0., 0., 0.]], dtype=float32)"
      ]
     },
     "execution_count": 91,
     "metadata": {},
     "output_type": "execute_result"
    }
   ],
   "source": [
    "y_test1"
   ]
  },
  {
   "cell_type": "code",
   "execution_count": null,
   "id": "kEQN1Zn3i5Kb",
   "metadata": {
    "id": "kEQN1Zn3i5Kb"
   },
   "outputs": [],
   "source": [
    "\n",
    "#adam = Adam(learning_rate=0.005)"
   ]
  },
  {
   "cell_type": "markdown",
   "id": "qwKW0p84vXHT",
   "metadata": {
    "id": "qwKW0p84vXHT"
   },
   "source": [
    "# Model Implementation"
   ]
  },
  {
   "cell_type": "code",
   "execution_count": null,
   "id": "rZVGZmVX9LkA",
   "metadata": {
    "id": "rZVGZmVX9LkA"
   },
   "outputs": [],
   "source": [
    "#callbacks\n",
    "checkpoint_filepath = '/content/drive/MyDrive/models/checkpoints/history_model_BertLSTM1.epoch{epoch:02d}-loss{val_loss:.2f}.h5'\n",
    "model_checkpoint_callback = tf.keras.callbacks.ModelCheckpoint(\n",
    "    filepath=checkpoint_filepath,\n",
    "    save_weights_only=True,\n",
    "    monitor='val_accuracy',\n",
    "    mode='max',\n",
    "    save_best_only=True)\n",
    "Earlystopping=callback = EarlyStopping(\n",
    "    monitor=\"val_loss\",\n",
    "    patience=3,\n",
    "    restore_best_weights=True,\n",
    ")\n",
    "log_csv=CSVLogger('/content/drive/MyDrive/models/checkpoints/my_logsmodel3.csv',separator=',',append=False)\n",
    "callback_list=[Earlystopping,model_checkpoint_callback]"
   ]
  },
  {
   "cell_type": "code",
   "execution_count": null,
   "id": "sZQ7opUg9gJ9",
   "metadata": {
    "id": "sZQ7opUg9gJ9"
   },
   "outputs": [],
   "source": [
    "METRICS = [\n",
    "      tf.keras.metrics.BinaryAccuracy(name='accuracy'),\n",
    "      tf.keras.metrics.Precision(name='precision'),\n",
    "      tf.keras.metrics.Recall(name='recall')\n",
    "]\n",
    "\n",
    "#model.compile(tf.keras.optimizers.Adam(learning_rate=1e-5),\n",
    "             # loss='categorical_crossentropy',\n",
    "           # metrics=METRICS)"
   ]
  },
  {
   "cell_type": "markdown",
   "id": "H92Cu5m1lcCn",
   "metadata": {
    "id": "H92Cu5m1lcCn"
   },
   "source": [
    "BERT BASE MODEL"
   ]
  },
  {
   "cell_type": "code",
   "execution_count": null,
   "id": "b3OimQKgh9L3",
   "metadata": {
    "id": "b3OimQKgh9L3"
   },
   "outputs": [],
   "source": [
    "#Bert Model with single classification layer\n",
    "# Bert layers\n",
    "text_input = tf.keras.layers.Input(shape=(), dtype=tf.string, name='text')\n",
    "preprocessed_text = bert_preprocess(text_input)\n",
    "outputs = bert_encoder(preprocessed_text)\n",
    "# Neural network layers\n",
    "drop_out1 = tf.keras.layers.Dropout(0.2, name=\"dropout1\")(outputs['pooled_output'])\n",
    "l = tf.keras.layers.Dense(6, activation='softmax', name=\"output\")(drop_out1)\n",
    "\n",
    "# Use inputs and outputs to construct a final model\n",
    "model_bert1 = tf.keras.Model(inputs=[text_input], outputs = [l])\n",
    "\n"
   ]
  },
  {
   "cell_type": "code",
   "execution_count": null,
   "id": "OEG_9eYi8-Zc",
   "metadata": {
    "id": "OEG_9eYi8-Zc"
   },
   "outputs": [],
   "source": [
    "#model_bert1.layers[1]._name = 'Bert Preprocessor_layer'"
   ]
  },
  {
   "cell_type": "code",
   "execution_count": null,
   "id": "D_7vgukCQ1QU",
   "metadata": {
    "colab": {
     "base_uri": "https://localhost:8080/",
     "height": 480
    },
    "id": "D_7vgukCQ1QU",
    "outputId": "44e5daea-bd2b-434a-f235-3f17e8f0c830"
   },
   "outputs": [
    {
     "data": {
      "image/png": "[encoded data removed]",
      "text/plain": [
       "<IPython.core.display.Image object>"
      ]
     },
     "execution_count": 122,
     "metadata": {},
     "output_type": "execute_result"
    }
   ],
   "source": [
    "dot_img_file = '/content/drive/MyDrive/datasets/images/model_bert1.png'\n",
    "tf.keras.utils.plot_model(model_bert1, to_file=dot_img_file,  show_shapes=False,\n",
    "  show_dtype=True,\n",
    "    show_layer_names=True,\n",
    "    rankdir='TB',\n",
    "    expand_nested=False,\n",
    "    dpi=96,\n",
    "    layer_range=None,\n",
    "    show_layer_activations=True)"
   ]
  },
  {
   "cell_type": "code",
   "execution_count": null,
   "id": "bJB2tWE-9ZYI",
   "metadata": {
    "id": "bJB2tWE-9ZYI"
   },
   "outputs": [],
   "source": [
    "  model_bert1.compile(optimizer='adam',loss='categorical_crossentropy',metrics=METRICS)"
   ]
  },
  {
   "cell_type": "code",
   "execution_count": null,
   "id": "pXzV6jhf8j9C",
   "metadata": {
    "colab": {
     "base_uri": "https://localhost:8080/"
    },
    "id": "pXzV6jhf8j9C",
    "outputId": "42e5d011-01c6-4637-b61e-6d8448fa4aef"
   },
   "outputs": [
    {
     "name": "stdout",
     "output_type": "stream",
     "text": [
      "Epoch 1/20\n",
      "1006/1006 [==============================] - 107s 105ms/step - loss: 1.5800 - accuracy: 0.8302 - precision: 0.4454 - recall: 0.0762 - val_loss: 1.5050 - val_accuracy: 0.8319 - val_precision: 0.4712 - val_recall: 0.0695\n",
      "Epoch 2/20\n",
      "1006/1006 [==============================] - 105s 104ms/step - loss: 1.4361 - accuracy: 0.8435 - precision: 0.6114 - recall: 0.1667 - val_loss: 1.4095 - val_accuracy: 0.8407 - val_precision: 0.6005 - val_recall: 0.1330\n",
      "Epoch 3/20\n",
      "1006/1006 [==============================] - 105s 104ms/step - loss: 1.4033 - accuracy: 0.8465 - precision: 0.6259 - recall: 0.1956 - val_loss: 1.3748 - val_accuracy: 0.8425 - val_precision: 0.6096 - val_recall: 0.1530\n",
      "Epoch 4/20\n",
      "1006/1006 [==============================] - 105s 105ms/step - loss: 1.3873 - accuracy: 0.8475 - precision: 0.6267 - recall: 0.2099 - val_loss: 1.4463 - val_accuracy: 0.8362 - val_precision: 0.5330 - val_recall: 0.1415\n",
      "Epoch 5/20\n",
      "1006/1006 [==============================] - 105s 105ms/step - loss: 1.3843 - accuracy: 0.8478 - precision: 0.6225 - recall: 0.2205 - val_loss: 1.4003 - val_accuracy: 0.8407 - val_precision: 0.5827 - val_recall: 0.1550\n",
      "Epoch 6/20\n",
      "1006/1006 [==============================] - 106s 105ms/step - loss: 1.3805 - accuracy: 0.8477 - precision: 0.6196 - recall: 0.2237 - val_loss: 1.3496 - val_accuracy: 0.8434 - val_precision: 0.6122 - val_recall: 0.1650\n",
      "Epoch 7/20\n",
      "1006/1006 [==============================] - 106s 105ms/step - loss: 1.3762 - accuracy: 0.8483 - precision: 0.6235 - recall: 0.2270 - val_loss: 1.3305 - val_accuracy: 0.8459 - val_precision: 0.6341 - val_recall: 0.1785\n",
      "Epoch 8/20\n",
      "1006/1006 [==============================] - 106s 105ms/step - loss: 1.3762 - accuracy: 0.8480 - precision: 0.6196 - recall: 0.2274 - val_loss: 1.3501 - val_accuracy: 0.8443 - val_precision: 0.6083 - val_recall: 0.1840\n",
      "Epoch 9/20\n",
      "1006/1006 [==============================] - 106s 105ms/step - loss: 1.3725 - accuracy: 0.8485 - precision: 0.6210 - recall: 0.2338 - val_loss: 1.4019 - val_accuracy: 0.8385 - val_precision: 0.5525 - val_recall: 0.1630\n",
      "Epoch 10/20\n",
      "1006/1006 [==============================] - 105s 105ms/step - loss: 1.3746 - accuracy: 0.8491 - precision: 0.6261 - recall: 0.2345 - val_loss: 1.4945 - val_accuracy: 0.8309 - val_precision: 0.4746 - val_recall: 0.1355\n"
     ]
    }
   ],
   "source": [
    "history_model_bert1=model_bert1.fit(X_train_ns,y_train1, epochs=20,validation_data=(X_test,y_test1),callbacks=callback_list)"
   ]
  },
  {
   "cell_type": "code",
   "execution_count": null,
   "id": "NdmyKSI1IMep",
   "metadata": {
    "colab": {
     "base_uri": "https://localhost:8080/"
    },
    "id": "NdmyKSI1IMep",
    "outputId": "4aa76b52-10f1-4c09-9ace-916c5714a372"
   },
   "outputs": [
    {
     "name": "stdout",
     "output_type": "stream",
     "text": [
      "Epoch 1/8\n",
      "1006/1006 [==============================] - 110s 110ms/step - loss: 1.3730 - accuracy: 0.8483 - precision: 0.6196 - recall: 0.2321 - val_loss: 1.3916 - val_accuracy: 0.8423 - val_precision: 0.5951 - val_recall: 0.1690\n",
      "Epoch 2/8\n",
      "1006/1006 [==============================] - 105s 105ms/step - loss: 1.3653 - accuracy: 0.8497 - precision: 0.6300 - recall: 0.2373 - val_loss: 1.4149 - val_accuracy: 0.8408 - val_precision: 0.5748 - val_recall: 0.1710\n",
      "Epoch 3/8\n",
      "1006/1006 [==============================] - 105s 104ms/step - loss: 1.3692 - accuracy: 0.8489 - precision: 0.6233 - recall: 0.2362 - val_loss: 1.3965 - val_accuracy: 0.8403 - val_precision: 0.5709 - val_recall: 0.1670\n",
      "Epoch 4/8\n",
      "1006/1006 [==============================] - 106s 105ms/step - loss: 1.3704 - accuracy: 0.8492 - precision: 0.6216 - recall: 0.2427 - val_loss: 1.3235 - val_accuracy: 0.8462 - val_precision: 0.6314 - val_recall: 0.1850\n",
      "Epoch 5/8\n",
      "1006/1006 [==============================] - 105s 105ms/step - loss: 1.3731 - accuracy: 0.8484 - precision: 0.6173 - recall: 0.2372 - val_loss: 1.3936 - val_accuracy: 0.8409 - val_precision: 0.5794 - val_recall: 0.1660\n",
      "Epoch 6/8\n",
      "1006/1006 [==============================] - 110s 109ms/step - loss: 1.3710 - accuracy: 0.8488 - precision: 0.6187 - recall: 0.2423 - val_loss: 1.3157 - val_accuracy: 0.8516 - val_precision: 0.6652 - val_recall: 0.2205\n",
      "Epoch 7/8\n",
      "1006/1006 [==============================] - 106s 105ms/step - loss: 1.3699 - accuracy: 0.8489 - precision: 0.6210 - recall: 0.2398 - val_loss: 1.3357 - val_accuracy: 0.8499 - val_precision: 0.6582 - val_recall: 0.2070\n",
      "Epoch 8/8\n",
      "1006/1006 [==============================] - 106s 105ms/step - loss: 1.3709 - accuracy: 0.8490 - precision: 0.6215 - recall: 0.2408 - val_loss: 1.4866 - val_accuracy: 0.8310 - val_precision: 0.4764 - val_recall: 0.1415\n"
     ]
    }
   ],
   "source": [
    "history_modelbert1=model_bert1.fit(X_train_ns,y_train1, epochs=8,validation_data=(X_test,y_test1),callbacks=callback_list)"
   ]
  },
  {
   "cell_type": "code",
   "execution_count": null,
   "id": "v8Ho6DM0F28p",
   "metadata": {
    "colab": {
     "base_uri": "https://localhost:8080/"
    },
    "id": "v8Ho6DM0F28p",
    "outputId": "2029e768-94ae-4924-f520-e42779c23c9f"
   },
   "outputs": [
    {
     "name": "stderr",
     "output_type": "stream",
     "text": [
      "WARNING:absl:Found untraced functions such as restored_function_body, restored_function_body, restored_function_body, restored_function_body, restored_function_body while saving (showing 5 of 124). These functions will not be directly callable after loading.\n"
     ]
    },
    {
     "name": "stdout",
     "output_type": "stream",
     "text": [
      "INFO:tensorflow:Assets written to: /content/drive/MyDrive/models/model_bert1.830/assets\n"
     ]
    },
    {
     "name": "stderr",
     "output_type": "stream",
     "text": [
      "INFO:tensorflow:Assets written to: /content/drive/MyDrive/models/model_bert1.830/assets\n"
     ]
    }
   ],
   "source": [
    "model_bert1.save(\"/content/drive/MyDrive/models/model_bert1.830\")"
   ]
  },
  {
   "cell_type": "code",
   "execution_count": null,
   "id": "TZOCaLGzSRRw",
   "metadata": {
    "colab": {
     "base_uri": "https://localhost:8080/",
     "height": 545
    },
    "id": "TZOCaLGzSRRw",
    "outputId": "4a63fd45-8072-411f-9538-00ddc74df398"
   },
   "outputs": [
    {
     "data": {
      "image/png": "[encoded data removed]",
      "text/plain": [
       "<Figure size 432x288 with 1 Axes>"
      ]
     },
     "metadata": {
      "needs_background": "light"
     },
     "output_type": "display_data"
    },
    {
     "data": {
      "image/png": "[encoded data removed]",
      "text/plain": [
       "<Figure size 432x288 with 1 Axes>"
      ]
     },
     "metadata": {
      "needs_background": "light"
     },
     "output_type": "display_data"
    }
   ],
   "source": [
    "# Visualize Loss & Accuracy\n",
    "\n",
    "%matplotlib inline\n",
    "import matplotlib.pyplot as plt\n",
    "acc = history_model_bert1.history['accuracy']\n",
    "val_acc = history_model_bert1.history['val_accuracy']\n",
    "loss = history_model_bert1.history['loss']\n",
    "val_loss = history_model_bert1.history['val_loss']\n",
    "\n",
    "epochs = range(len(acc))\n",
    "\n",
    "plt.plot(epochs, acc, 'r', label='Training accuracy')\n",
    "plt.plot(epochs, val_acc, 'b', label='Validation accuracy')\n",
    "plt.title('Training and validation accuracy')\n",
    "plt.legend()\n",
    "plt.figure()\n",
    "\n",
    "plt.plot(epochs, loss, 'r', label='Training Loss')\n",
    "plt.plot(epochs, val_loss, 'b', label='Validation Loss')\n",
    "plt.title('Training and validation loss')\n",
    "plt.legend()\n",
    "\n",
    "plt.show()"
   ]
  },
  {
   "cell_type": "code",
   "execution_count": null,
   "id": "Okrai-IaUgxO",
   "metadata": {
    "colab": {
     "base_uri": "https://localhost:8080/"
    },
    "id": "Okrai-IaUgxO",
    "outputId": "5756f2fa-fea3-4628-ecf1-69e5ef4d8f98"
   },
   "outputs": [
    {
     "name": "stdout",
     "output_type": "stream",
     "text": [
      "63/63 [==============================] - 7s 114ms/step - loss: 1.4866 - accuracy: 0.8310 - precision: 0.4764 - recall: 0.1415\n"
     ]
    },
    {
     "data": {
      "text/plain": [
       "[1.486581802368164,\n",
       " 0.8310002684593201,\n",
       " 0.4764309823513031,\n",
       " 0.14149999618530273]"
      ]
     },
     "execution_count": 96,
     "metadata": {},
     "output_type": "execute_result"
    }
   ],
   "source": [
    "model_bert1.evaluate(X_test, y_test1)"
   ]
  },
  {
   "cell_type": "markdown",
   "id": "LTR62Ithxxny",
   "metadata": {
    "id": "LTR62Ithxxny"
   },
   "source": [
    "# Bert-LSTM model"
   ]
  },
  {
   "cell_type": "code",
   "execution_count": null,
   "id": "uY6s8Hl6-wDJ",
   "metadata": {
    "id": "uY6s8Hl6-wDJ"
   },
   "outputs": [],
   "source": [
    "\n",
    "# Bert layers\n",
    "#model_BertLSTM1\n",
    "text_input = tf.keras.layers.Input(shape=(), dtype=tf.string, name='text')\n",
    "preprocessed_text = bert_preprocess(text_input)\n",
    "outputs = bert_encoder(preprocessed_text)\n",
    "bert_out = tf.keras.layers.SpatialDropout1D(0.2)(outputs['sequence_output'])\n",
    "l_lstm = LSTM(256)(bert_out)\n",
    "newout = tf.keras.layers.Dense(768,activation='relu')(l_lstm)\n",
    "preds = tf.keras.layers.Dense(units=6, activation='softmax')(newout)\n",
    "model_BertLSTM1 = tf.keras.Model(inputs=[text_input], outputs = [preds])"
   ]
  },
  {
   "cell_type": "code",
   "execution_count": null,
   "id": "EKsNo_nv_HiS",
   "metadata": {
    "colab": {
     "base_uri": "https://localhost:8080/",
     "height": 701
    },
    "id": "EKsNo_nv_HiS",
    "outputId": "e5e76772-87c1-4b7b-c970-3b8a68730e27"
   },
   "outputs": [
    {
     "data": {
      "image/png": "[encoded data removed]",
      "text/plain": [
       "<IPython.core.display.Image object>"
      ]
     },
     "execution_count": 126,
     "metadata": {},
     "output_type": "execute_result"
    }
   ],
   "source": [
    "dot_img_file = '/content/drive/MyDrive/datasets/images/model_BertLSTM1.png'\n",
    "tf.keras.utils.plot_model(model_BertLSTM1, to_file=dot_img_file,  show_shapes=False,\n",
    "  show_dtype=True,\n",
    "    show_layer_names=True,\n",
    "    rankdir='TB',\n",
    "    expand_nested=False,\n",
    "    dpi=96,\n",
    "    layer_range=None,\n",
    "    show_layer_activations=True)"
   ]
  },
  {
   "cell_type": "code",
   "execution_count": null,
   "id": "5w9vKKkAAIVw",
   "metadata": {
    "id": "5w9vKKkAAIVw"
   },
   "outputs": [],
   "source": [
    "  model_BertLSTM1.compile(optimizer='adam',loss='categorical_crossentropy',metrics=METRICS)"
   ]
  },
  {
   "cell_type": "code",
   "execution_count": null,
   "id": "ThNqkGGm_ZOE",
   "metadata": {
    "colab": {
     "base_uri": "https://localhost:8080/"
    },
    "id": "ThNqkGGm_ZOE",
    "outputId": "47949aad-1c1d-4957-e686-933750ccd893"
   },
   "outputs": [
    {
     "name": "stdout",
     "output_type": "stream",
     "text": [
      "Epoch 1/20\n",
      "1006/1006 [==============================] - 118s 117ms/step - loss: 0.3696 - accuracy: 0.9562 - precision: 0.8875 - recall: 0.8439 - val_loss: 0.5456 - val_accuracy: 0.9365 - val_precision: 0.8272 - val_recall: 0.7825\n",
      "Epoch 2/20\n",
      "1006/1006 [==============================] - 117s 117ms/step - loss: 0.2663 - accuracy: 0.9687 - precision: 0.9166 - recall: 0.8934 - val_loss: 0.5000 - val_accuracy: 0.9457 - val_precision: 0.8514 - val_recall: 0.8165\n",
      "Epoch 3/20\n",
      "1006/1006 [==============================] - 117s 116ms/step - loss: 0.2047 - accuracy: 0.9762 - precision: 0.9354 - recall: 0.9209 - val_loss: 0.5113 - val_accuracy: 0.9432 - val_precision: 0.8386 - val_recall: 0.8160\n",
      "Epoch 4/20\n",
      "1006/1006 [==============================] - 117s 116ms/step - loss: 0.1694 - accuracy: 0.9803 - precision: 0.9462 - recall: 0.9349 - val_loss: 0.4861 - val_accuracy: 0.9470 - val_precision: 0.8458 - val_recall: 0.8340\n",
      "Epoch 5/20\n",
      "1006/1006 [==============================] - 117s 116ms/step - loss: 0.1480 - accuracy: 0.9826 - precision: 0.9518 - recall: 0.9434 - val_loss: 0.5151 - val_accuracy: 0.9481 - val_precision: 0.8497 - val_recall: 0.8365\n",
      "Epoch 6/20\n",
      "1006/1006 [==============================] - 117s 116ms/step - loss: 0.1247 - accuracy: 0.9856 - precision: 0.9596 - recall: 0.9536 - val_loss: 0.5112 - val_accuracy: 0.9513 - val_precision: 0.8587 - val_recall: 0.8475\n",
      "Epoch 7/20\n",
      "1006/1006 [==============================] - 116s 116ms/step - loss: 0.1158 - accuracy: 0.9869 - precision: 0.9636 - recall: 0.9574 - val_loss: 0.5691 - val_accuracy: 0.9477 - val_precision: 0.8489 - val_recall: 0.8345\n"
     ]
    }
   ],
   "source": [
    "history_model_BertLSTM1=model_BertLSTM1.fit(X_train_ns,y_train1, epochs=20,validation_data=(X_test,y_test1),callbacks=callback_list)"
   ]
  },
  {
   "cell_type": "code",
   "execution_count": null,
   "id": "PKYeCtp-ITa6",
   "metadata": {
    "colab": {
     "base_uri": "https://localhost:8080/",
     "height": 545
    },
    "id": "PKYeCtp-ITa6",
    "outputId": "044c2d0d-02cb-4a2f-c856-2f51e16b32a8"
   },
   "outputs": [
    {
     "data": {
      "image/png": "[encoded data removed]",
      "text/plain": [
       "<Figure size 432x288 with 1 Axes>"
      ]
     },
     "metadata": {
      "needs_background": "light"
     },
     "output_type": "display_data"
    },
    {
     "data": {
      "image/png": "[encoded data removed]",
      "text/plain": [
       "<Figure size 432x288 with 1 Axes>"
      ]
     },
     "metadata": {
      "needs_background": "light"
     },
     "output_type": "display_data"
    }
   ],
   "source": [
    "# Visualize Loss & Accuracy\n",
    "\n",
    "%matplotlib inline\n",
    "import matplotlib.pyplot as plt\n",
    "acc = history_model_BertLSTM1.history['accuracy']\n",
    "val_acc = history_model_BertLSTM1.history['val_accuracy']\n",
    "loss = history_model_BertLSTM1.history['loss']\n",
    "val_loss = history_model_BertLSTM1.history['val_loss']\n",
    "\n",
    "epochs = range(len(acc))\n",
    "\n",
    "plt.plot(epochs, acc, 'r', label='Training accuracy')\n",
    "plt.plot(epochs, val_acc, 'b', label='Validation accuracy')\n",
    "plt.title('Training and validation accuracy')\n",
    "plt.legend()\n",
    "plt.figure()\n",
    "\n",
    "plt.plot(epochs, loss, 'r', label='Training Loss')\n",
    "plt.plot(epochs, val_loss, 'b', label='Validation Loss')\n",
    "plt.title('Training and validation loss')\n",
    "plt.legend()\n",
    "\n",
    "plt.show()"
   ]
  },
  {
   "cell_type": "code",
   "execution_count": null,
   "id": "2i1aopMEJPHN",
   "metadata": {
    "colab": {
     "base_uri": "https://localhost:8080/"
    },
    "id": "2i1aopMEJPHN",
    "outputId": "0bf636d1-c5d1-404e-ecad-13b4e3804d8b"
   },
   "outputs": [
    {
     "name": "stdout",
     "output_type": "stream",
     "text": [
      "63/63 [==============================] - 7s 112ms/step - loss: 0.4861 - accuracy: 0.9470 - precision: 0.8458 - recall: 0.8340\n"
     ]
    },
    {
     "data": {
      "text/plain": [
       "[0.48609718680381775,\n",
       " 0.946999728679657,\n",
       " 0.8458417654037476,\n",
       " 0.8339999914169312]"
      ]
     },
     "execution_count": 134,
     "metadata": {},
     "output_type": "execute_result"
    }
   ],
   "source": [
    "model_BertLSTM1.evaluate(X_test, y_test1)"
   ]
  },
  {
   "cell_type": "code",
   "execution_count": null,
   "id": "1yDYJ-uJJmDR",
   "metadata": {
    "colab": {
     "base_uri": "https://localhost:8080/"
    },
    "id": "1yDYJ-uJJmDR",
    "outputId": "45cc002c-0830-4fca-9c21-040b2140c81d"
   },
   "outputs": [
    {
     "name": "stderr",
     "output_type": "stream",
     "text": [
      "WARNING:absl:Found untraced functions such as lstm_cell_layer_call_fn, lstm_cell_layer_call_and_return_conditional_losses, restored_function_body, restored_function_body, restored_function_body while saving (showing 5 of 126). These functions will not be directly callable after loading.\n"
     ]
    },
    {
     "name": "stdout",
     "output_type": "stream",
     "text": [
      "INFO:tensorflow:Assets written to: /content/drive/MyDrive/models/model_BertLSTM1.9470/assets\n"
     ]
    },
    {
     "name": "stderr",
     "output_type": "stream",
     "text": [
      "INFO:tensorflow:Assets written to: /content/drive/MyDrive/models/model_BertLSTM1.9470/assets\n",
      "WARNING:absl:<keras.layers.recurrent.LSTMCell object at 0x7f30a3d86790> has the same name 'LSTMCell' as a built-in Keras object. Consider renaming <class 'keras.layers.recurrent.LSTMCell'> to avoid naming conflicts when loading with `tf.keras.models.load_model`. If renaming is not possible, pass the object in the `custom_objects` parameter of the load function.\n"
     ]
    }
   ],
   "source": [
    "model_BertLSTM1.save(\"/content/drive/MyDrive/models/model_BertLSTM1.9470\")"
   ]
  },
  {
   "cell_type": "code",
   "execution_count": null,
   "id": "gkkJcngdu4A3",
   "metadata": {
    "id": "gkkJcngdu4A3"
   },
   "outputs": [],
   "source": [
    "#inputs = model.inputs[:2]\n",
    "# Bert layers\n",
    "#Bert+LSTM ---sigmoid activation\n",
    "text_input = tf.keras.layers.Input(shape=(), dtype=tf.string, name='text')\n",
    "preprocessed_text = bert_preprocess(text_input)\n",
    "outputs = bert_encoder(preprocessed_text)\n",
    "bert_out = tf.keras.layers.SpatialDropout1D(0.2)(outputs['sequence_output'])\n",
    "l_lstm = LSTM(256)(bert_out)\n",
    "newout = tf.keras.layers.Dense(768,activation='relu')(l_lstm)\n",
    "preds = tf.keras.layers.Dense(units=6, activation='sigmoid')(newout)\n",
    "model_bertlstm2 = tf.keras.Model(inputs=[text_input], outputs = [preds])"
   ]
  },
  {
   "cell_type": "code",
   "execution_count": null,
   "id": "FVRprXatc74L",
   "metadata": {
    "id": "FVRprXatc74L"
   },
   "outputs": [],
   "source": [
    "model_bertlstm2.compile(optimizer='adam',loss='categorical_crossentropy',metrics=METRICS)"
   ]
  },
  {
   "cell_type": "code",
   "execution_count": null,
   "id": "qJrmveHHHO0A",
   "metadata": {
    "colab": {
     "base_uri": "https://localhost:8080/"
    },
    "id": "qJrmveHHHO0A",
    "outputId": "e4212fa0-46cb-4ea8-efc8-454da2660755"
   },
   "outputs": [
    {
     "name": "stdout",
     "output_type": "stream",
     "text": [
      "Epoch 1/10\n",
      "1006/1006 [==============================] - 129s 121ms/step - loss: 1.2075 - accuracy: 0.6786 - precision: 0.3206 - recall: 0.8294 - val_loss: 0.8531 - val_accuracy: 0.7195 - val_precision: 0.3673 - val_recall: 0.9450\n",
      "Epoch 2/10\n",
      "1006/1006 [==============================] - 120s 119ms/step - loss: 0.5790 - accuracy: 0.7665 - precision: 0.4140 - recall: 0.9644 - val_loss: 0.6255 - val_accuracy: 0.7768 - val_precision: 0.4253 - val_recall: 0.9645\n",
      "Epoch 3/10\n",
      "1006/1006 [==============================] - 119s 118ms/step - loss: 0.3436 - accuracy: 0.8023 - precision: 0.4570 - recall: 0.9873 - val_loss: 0.5095 - val_accuracy: 0.7922 - val_precision: 0.4440 - val_recall: 0.9765\n",
      "Epoch 4/10\n",
      "1006/1006 [==============================] - 120s 119ms/step - loss: 0.2374 - accuracy: 0.8215 - precision: 0.4827 - recall: 0.9926 - val_loss: 0.4877 - val_accuracy: 0.8173 - val_precision: 0.4766 - val_recall: 0.9760\n",
      "Epoch 5/10\n",
      "1006/1006 [==============================] - 119s 119ms/step - loss: 0.1880 - accuracy: 0.8376 - precision: 0.5065 - recall: 0.9953 - val_loss: 0.5216 - val_accuracy: 0.8323 - val_precision: 0.4985 - val_recall: 0.9760\n",
      "Epoch 6/10\n",
      "1006/1006 [==============================] - 119s 118ms/step - loss: 0.1574 - accuracy: 0.8495 - precision: 0.5257 - recall: 0.9959 - val_loss: 0.4718 - val_accuracy: 0.8479 - val_precision: 0.5236 - val_recall: 0.9725\n",
      "Epoch 7/10\n",
      "1006/1006 [==============================] - 118s 117ms/step - loss: 0.1298 - accuracy: 0.8605 - precision: 0.5445 - recall: 0.9970 - val_loss: 0.5405 - val_accuracy: 0.8452 - val_precision: 0.5191 - val_recall: 0.9740\n",
      "Epoch 8/10\n",
      "1006/1006 [==============================] - 117s 117ms/step - loss: 0.1161 - accuracy: 0.8694 - precision: 0.5610 - recall: 0.9970 - val_loss: 0.5420 - val_accuracy: 0.8526 - val_precision: 0.5315 - val_recall: 0.9755\n",
      "Epoch 9/10\n",
      "1006/1006 [==============================] - 118s 117ms/step - loss: 0.1050 - accuracy: 0.8745 - precision: 0.5705 - recall: 0.9980 - val_loss: 0.5699 - val_accuracy: 0.8600 - val_precision: 0.5449 - val_recall: 0.9715\n"
     ]
    }
   ],
   "source": [
    "history_model_bertlstm2=model_bertlstm2.fit(X_train_ns,y_train1, epochs=10,validation_data=(X_test,y_test1),callbacks=callback_list)"
   ]
  },
  {
   "cell_type": "code",
   "execution_count": null,
   "id": "oJABTPtUcVAo",
   "metadata": {
    "colab": {
     "base_uri": "https://localhost:8080/"
    },
    "id": "oJABTPtUcVAo",
    "outputId": "65a749ba-bda3-4905-d912-ad92243fbfea"
   },
   "outputs": [
    {
     "name": "stdout",
     "output_type": "stream",
     "text": [
      "63/63 [==============================] - 7s 107ms/step - loss: 0.4718 - accuracy: 0.8479 - precision: 0.5236 - recall: 0.9725\n"
     ]
    },
    {
     "data": {
      "text/plain": [
       "[0.47180405259132385,\n",
       " 0.8479166030883789,\n",
       " 0.523553192615509,\n",
       " 0.9725000262260437]"
      ]
     },
     "execution_count": 31,
     "metadata": {},
     "output_type": "execute_result"
    }
   ],
   "source": [
    "model_bertlstm2.evaluate(X_test, y_test1)"
   ]
  },
  {
   "cell_type": "code",
   "execution_count": null,
   "id": "oOIssyRfmHVo",
   "metadata": {
    "colab": {
     "base_uri": "https://localhost:8080/",
     "height": 545
    },
    "id": "oOIssyRfmHVo",
    "outputId": "fff71fa3-0a04-4dcf-a012-469507c4fe3b"
   },
   "outputs": [
    {
     "data": {
      "image/png": "[encoded data removed]",
      "text/plain": [
       "<Figure size 432x288 with 1 Axes>"
      ]
     },
     "metadata": {
      "needs_background": "light"
     },
     "output_type": "display_data"
    },
    {
     "data": {
      "image/png": "[encoded data removed]",
      "text/plain": [
       "<Figure size 432x288 with 1 Axes>"
      ]
     },
     "metadata": {
      "needs_background": "light"
     },
     "output_type": "display_data"
    }
   ],
   "source": [
    "# Visualize Loss & Accuracy\n",
    "\n",
    "%matplotlib inline\n",
    "import matplotlib.pyplot as plt\n",
    "acc = history_model_bertlstm2.history['accuracy']\n",
    "val_acc = history_model_bertlstm2.history['val_accuracy']\n",
    "loss = history_model_bertlstm2.history['loss']\n",
    "val_loss = history_model_bertlstm2.history['val_loss']\n",
    "\n",
    "epochs = range(len(acc))\n",
    "\n",
    "plt.plot(epochs, acc, 'r', label='Training accuracy')\n",
    "plt.plot(epochs, val_acc, 'b', label='Validation accuracy')\n",
    "plt.title('Training and validation accuracy')\n",
    "plt.legend()\n",
    "plt.figure()\n",
    "\n",
    "plt.plot(epochs, loss, 'r', label='Training Loss')\n",
    "plt.plot(epochs, val_loss, 'b', label='Validation Loss')\n",
    "plt.title('Training and validation loss')\n",
    "plt.legend()\n",
    "\n",
    "plt.show()"
   ]
  },
  {
   "cell_type": "code",
   "execution_count": null,
   "id": "p0F45vdX1xRC",
   "metadata": {
    "id": "p0F45vdX1xRC"
   },
   "outputs": [],
   "source": [
    "#Bert + Lstm \n",
    "# 64 neurons in hidden layer\n",
    "text_input = tf.keras.layers.Input(shape=(), dtype=tf.string, name='text')\n",
    "preprocessed_text = bert_preprocess(text_input)\n",
    "outputs = bert_encoder(preprocessed_text)\n",
    "bert_out = tf.keras.layers.SpatialDropout1D(0.2)(outputs['sequence_output'])\n",
    "l_lstm = LSTM(256)(bert_out)\n",
    "newout = tf.keras.layers.Dense(64,activation='relu')(l_lstm)\n",
    "preds = tf.keras.layers.Dense(units=6, activation='softmax')(newout)\n",
    "model_bert_lstm3 = tf.keras.Model(inputs=[text_input], outputs = [preds])"
   ]
  },
  {
   "cell_type": "code",
   "execution_count": null,
   "id": "D8ZCSIA0hiW1",
   "metadata": {
    "id": "D8ZCSIA0hiW1"
   },
   "outputs": [],
   "source": [
    "model_bert_lstm3.compile(optimizer='adam',loss='categorical_crossentropy',metrics=METRICS)"
   ]
  },
  {
   "cell_type": "code",
   "execution_count": null,
   "id": "pO5YvZXn2pYD",
   "metadata": {
    "colab": {
     "base_uri": "https://localhost:8080/"
    },
    "id": "pO5YvZXn2pYD",
    "outputId": "28cae73f-bdde-40a1-97eb-980bbedcef67"
   },
   "outputs": [
    {
     "name": "stdout",
     "output_type": "stream",
     "text": [
      "Epoch 1/30\n",
      "1006/1006 [==============================] - 165s 148ms/step - loss: 1.2210 - accuracy: 0.8636 - precision: 0.7145 - recall: 0.3029 - val_loss: 0.9302 - val_accuracy: 0.8843 - val_precision: 0.7235 - val_recall: 0.4945\n",
      "Epoch 2/30\n",
      "1006/1006 [==============================] - 145s 144ms/step - loss: 0.7389 - accuracy: 0.9143 - precision: 0.7933 - recall: 0.6568 - val_loss: 0.8687 - val_accuracy: 0.8957 - val_precision: 0.7322 - val_recall: 0.5905\n",
      "Epoch 3/30\n",
      "1006/1006 [==============================] - 145s 144ms/step - loss: 0.6059 - accuracy: 0.9298 - precision: 0.8267 - recall: 0.7325 - val_loss: 0.7194 - val_accuracy: 0.9134 - val_precision: 0.7713 - val_recall: 0.6830\n",
      "Epoch 4/30\n",
      "1006/1006 [==============================] - 145s 144ms/step - loss: 0.5293 - accuracy: 0.9387 - precision: 0.8458 - recall: 0.7731 - val_loss: 0.6974 - val_accuracy: 0.9155 - val_precision: 0.7742 - val_recall: 0.6960\n",
      "Epoch 5/30\n",
      "1006/1006 [==============================] - 145s 144ms/step - loss: 0.4926 - accuracy: 0.9436 - precision: 0.8558 - recall: 0.7958 - val_loss: 0.6900 - val_accuracy: 0.9211 - val_precision: 0.7930 - val_recall: 0.7125\n",
      "Epoch 6/30\n",
      "1006/1006 [==============================] - 145s 144ms/step - loss: 0.4608 - accuracy: 0.9462 - precision: 0.8615 - recall: 0.8068 - val_loss: 0.6549 - val_accuracy: 0.9232 - val_precision: 0.7979 - val_recall: 0.7225\n",
      "Epoch 7/30\n",
      "1006/1006 [==============================] - 145s 144ms/step - loss: 0.4360 - accuracy: 0.9491 - precision: 0.8692 - recall: 0.8178 - val_loss: 0.6237 - val_accuracy: 0.9292 - val_precision: 0.8101 - val_recall: 0.7510\n",
      "Epoch 8/30\n",
      "1006/1006 [==============================] - 145s 144ms/step - loss: 0.4152 - accuracy: 0.9523 - precision: 0.8763 - recall: 0.8311 - val_loss: 0.6636 - val_accuracy: 0.9247 - val_precision: 0.7995 - val_recall: 0.7315\n",
      "Epoch 9/30\n",
      "1006/1006 [==============================] - 148s 147ms/step - loss: 0.3978 - accuracy: 0.9537 - precision: 0.8790 - recall: 0.8377 - val_loss: 0.6300 - val_accuracy: 0.9289 - val_precision: 0.8049 - val_recall: 0.7570\n",
      "Epoch 10/30\n",
      "1006/1006 [==============================] - 145s 144ms/step - loss: 0.3943 - accuracy: 0.9548 - precision: 0.8817 - recall: 0.8416 - val_loss: 0.6436 - val_accuracy: 0.9292 - val_precision: 0.8091 - val_recall: 0.7525\n"
     ]
    }
   ],
   "source": [
    "history_model_bert_lstm3=model_bert_lstm3.fit(X_train_ns,y_train1, epochs=30,validation_data=(X_test,y_test1),callbacks=callback_list)"
   ]
  },
  {
   "cell_type": "code",
   "execution_count": null,
   "id": "ZKXnYWXQX0gF",
   "metadata": {
    "colab": {
     "base_uri": "https://localhost:8080/"
    },
    "id": "ZKXnYWXQX0gF",
    "outputId": "52978399-0eba-40ed-8a22-9eb9142780f8"
   },
   "outputs": [
    {
     "name": "stdout",
     "output_type": "stream",
     "text": [
      "63/63 [==============================] - 8s 124ms/step - loss: 0.6237 - accuracy: 0.9292 - precision: 0.8101 - recall: 0.7510\n"
     ]
    },
    {
     "data": {
      "text/plain": [
       "[0.6237002015113831,\n",
       " 0.9291666746139526,\n",
       " 0.8101402521133423,\n",
       " 0.7509999871253967]"
      ]
     },
     "execution_count": 39,
     "metadata": {},
     "output_type": "execute_result"
    }
   ],
   "source": [
    "model_bert_lstm3.evaluate(X_test, y_test1)"
   ]
  },
  {
   "cell_type": "code",
   "execution_count": null,
   "id": "eH0TlGuEyNP-",
   "metadata": {
    "colab": {
     "base_uri": "https://localhost:8080/",
     "height": 545
    },
    "id": "eH0TlGuEyNP-",
    "outputId": "69e1ad7c-95bf-4959-bfe8-a7c83d296358"
   },
   "outputs": [
    {
     "data": {
      "image/png": "[encoded data removed]",
      "text/plain": [
       "<Figure size 432x288 with 1 Axes>"
      ]
     },
     "metadata": {
      "needs_background": "light"
     },
     "output_type": "display_data"
    },
    {
     "data": {
      "image/png": "[encoded data removed]",
      "text/plain": [
       "<Figure size 432x288 with 1 Axes>"
      ]
     },
     "metadata": {
      "needs_background": "light"
     },
     "output_type": "display_data"
    }
   ],
   "source": [
    "# Visualize Loss & Accuracy\n",
    "\n",
    "%matplotlib inline\n",
    "import matplotlib.pyplot as plt\n",
    "acc = model_bert_lstm3.history['accuracy']\n",
    "val_acc = model_bert_lstm3.history['val_accuracy']\n",
    "loss = model_bert_lstm3.history['loss']\n",
    "val_loss = model_bert_lstm3.history['val_loss']\n",
    "\n",
    "epochs = range(len(acc))\n",
    "\n",
    "plt.plot(epochs, acc, 'r', label='Training accuracy')\n",
    "plt.plot(epochs, val_acc, 'b', label='Validation accuracy')\n",
    "plt.title('Training and validation accuracy')\n",
    "plt.legend()\n",
    "plt.figure()\n",
    "\n",
    "plt.plot(epochs, loss, 'r', label='Training Loss')\n",
    "plt.plot(epochs, val_loss, 'b', label='Validation Loss')\n",
    "plt.title('Training and validation loss')\n",
    "plt.legend()\n",
    "\n",
    "plt.show()"
   ]
  },
  {
   "cell_type": "markdown",
   "id": "NbGjFtNOYaSQ",
   "metadata": {
    "id": "NbGjFtNOYaSQ"
   },
   "source": [
    "# BERT-BILSTM"
   ]
  },
  {
   "cell_type": "code",
   "execution_count": null,
   "id": "PXt8pJrf6m8I",
   "metadata": {
    "id": "PXt8pJrf6m8I"
   },
   "outputs": [],
   "source": [
    "#BERT + Bi-LSTM\n",
    "# Bert layers\n",
    "text_input = tf.keras.layers.Input(shape=(), dtype=tf.string, name='text')\n",
    "preprocessed_text = bert_preprocess(text_input)\n",
    "outputs = bert_encoder(preprocessed_text)\n",
    "\n",
    "# Neural network layers\n",
    "#LSTM_layer=LSTM(64,input_shape=(),return_sequences=True)\n",
    "drop_out = tf.keras.layers.Dropout(0.6, name=\"dropout\")(outputs['sequence_output'])\n",
    "LSTM_layer1 = tf.keras.layers.Bidirectional(LSTM(80,name=\"LSTM_layer1\",return_sequences=True))(drop_out)\n",
    "drop_out_1 = tf.keras.layers.Dropout(0.6, name=\"dropout1\")(LSTM_layer1)\n",
    "layer_2 = Bidirectional(LSTM(40,name=\"LSTM_layer2\"))(drop_out_1)\n",
    "l = tf.keras.layers.Dense(6, activation='softmax', name=\"output\")(layer_2)\n",
    "\n",
    "# Use inputs and outputs to construct a final model\n",
    "model_bert_bilstm = tf.keras.Model(inputs=[text_input], outputs = [l])\n",
    "\n"
   ]
  },
  {
   "cell_type": "code",
   "execution_count": null,
   "id": "E-GvhRqHhslh",
   "metadata": {
    "id": "E-GvhRqHhslh"
   },
   "outputs": [],
   "source": [
    "model_bert_bilstm.compile(optimizer='adam',loss='categorical_crossentropy',metrics=METRICS)"
   ]
  },
  {
   "cell_type": "code",
   "execution_count": null,
   "id": "C7Di32t08nv6",
   "metadata": {
    "colab": {
     "base_uri": "https://localhost:8080/"
    },
    "id": "C7Di32t08nv6",
    "outputId": "5159fa5c-8d9d-4136-dbf0-ea3674816ad4"
   },
   "outputs": [
    {
     "name": "stdout",
     "output_type": "stream",
     "text": [
      "Epoch 1/30\n",
      "1006/1006 [==============================] - 154s 153ms/step - loss: 0.5414 - accuracy: 0.9355 - precision: 0.8380 - recall: 0.7597 - val_loss: 0.7783 - val_accuracy: 0.9141 - val_precision: 0.7637 - val_recall: 0.7015\n",
      "Epoch 2/30\n",
      "1006/1006 [==============================] - 153s 152ms/step - loss: 0.4919 - accuracy: 0.9416 - precision: 0.8517 - recall: 0.7863 - val_loss: 0.7887 - val_accuracy: 0.9094 - val_precision: 0.7450 - val_recall: 0.6940\n",
      "Epoch 3/30\n",
      "1006/1006 [==============================] - 153s 152ms/step - loss: 0.4483 - accuracy: 0.9472 - precision: 0.8658 - recall: 0.8083 - val_loss: 0.7311 - val_accuracy: 0.9180 - val_precision: 0.7731 - val_recall: 0.7190\n",
      "Epoch 4/30\n",
      "1006/1006 [==============================] - 153s 153ms/step - loss: 0.4136 - accuracy: 0.9515 - precision: 0.8761 - recall: 0.8256 - val_loss: 0.7930 - val_accuracy: 0.9165 - val_precision: 0.7621 - val_recall: 0.7255\n",
      "Epoch 5/30\n",
      "1006/1006 [==============================] - 153s 152ms/step - loss: 0.3868 - accuracy: 0.9543 - precision: 0.8824 - recall: 0.8372 - val_loss: 0.8404 - val_accuracy: 0.9093 - val_precision: 0.7386 - val_recall: 0.7050\n",
      "Epoch 6/30\n",
      "1006/1006 [==============================] - 154s 153ms/step - loss: 0.3588 - accuracy: 0.9578 - precision: 0.8911 - recall: 0.8508 - val_loss: 0.8122 - val_accuracy: 0.9192 - val_precision: 0.7678 - val_recall: 0.7390\n"
     ]
    }
   ],
   "source": [
    "history_model_bert_bilstm=model_bert_bilstm.fit(X_train_ns,y_train1, epochs=30,validation_data=(X_test,y_test1),callbacks=callback_list)"
   ]
  },
  {
   "cell_type": "code",
   "execution_count": null,
   "id": "urXBzvVwC8GO",
   "metadata": {
    "colab": {
     "base_uri": "https://localhost:8080/"
    },
    "id": "urXBzvVwC8GO",
    "outputId": "81872148-5172-4519-f37b-d64d73c3a535"
   },
   "outputs": [
    {
     "name": "stdout",
     "output_type": "stream",
     "text": [
      "63/63 [==============================] - 8s 125ms/step - loss: 0.7311 - accuracy: 0.9180 - precision: 0.7731 - recall: 0.7190\n"
     ]
    },
    {
     "data": {
      "text/plain": [
       "[0.7310883402824402, 0.9179999828338623, 0.773118257522583, 0.718999981880188]"
      ]
     },
     "execution_count": 80,
     "metadata": {},
     "output_type": "execute_result"
    }
   ],
   "source": [
    "model_bert_bilstm.evaluate(X_test, y_test1)"
   ]
  },
  {
   "cell_type": "code",
   "execution_count": null,
   "id": "sbjLr3sJDaOH",
   "metadata": {
    "colab": {
     "base_uri": "https://localhost:8080/",
     "height": 545
    },
    "id": "sbjLr3sJDaOH",
    "outputId": "cc27f945-1ee7-4a54-f936-fe3b537c0a17"
   },
   "outputs": [
    {
     "data": {
      "image/png": "[encoded data removed]",
      "text/plain": [
       "<Figure size 432x288 with 1 Axes>"
      ]
     },
     "metadata": {
      "needs_background": "light"
     },
     "output_type": "display_data"
    },
    {
     "data": {
      "image/png": "[encoded data removed]",
      "text/plain": [
       "<Figure size 432x288 with 1 Axes>"
      ]
     },
     "metadata": {
      "needs_background": "light"
     },
     "output_type": "display_data"
    }
   ],
   "source": [
    "# Visualize Loss & Accuracy\n",
    "\n",
    "%matplotlib inline\n",
    "import matplotlib.pyplot as plt\n",
    "acc = history_model_bert_bilstm.history['accuracy']\n",
    "val_acc = history_model_bert_bilstm.history['val_accuracy']\n",
    "loss = history_model_bert_bilstm.history['loss']\n",
    "val_loss = history_model_bert_bilstm.history['val_loss']\n",
    "\n",
    "epochs = range(len(acc))\n",
    "\n",
    "plt.plot(epochs, acc, 'r', label='Training accuracy')\n",
    "plt.plot(epochs, val_acc, 'b', label='Validation accuracy')\n",
    "plt.title('Training and validation accuracy')\n",
    "plt.legend()\n",
    "plt.figure()\n",
    "\n",
    "plt.plot(epochs, loss, 'r', label='Training Loss')\n",
    "plt.plot(epochs, val_loss, 'b', label='Validation Loss')\n",
    "plt.title('Training and validation loss')\n",
    "plt.legend()\n",
    "\n",
    "plt.show()"
   ]
  },
  {
   "cell_type": "code",
   "execution_count": 102,
   "id": "yZiEMPcy3uxT",
   "metadata": {
    "id": "yZiEMPcy3uxT"
   },
   "outputs": [],
   "source": [
    "#Bert + 2 Bidirectional LSTM\n",
    "# Bert layers\n",
    "text_input = tf.keras.layers.Input(shape=(), dtype=tf.string, name='text')\n",
    "preprocessed_text = bert_preprocess(text_input)\n",
    "outputs = bert_encoder(preprocessed_text)\n",
    "\n",
    "# Neural network layers\n",
    "#LSTM_layer=LSTM(64,input_shape=(),return_sequences=True)\n",
    "drop_out = tf.keras.layers.Dropout(0.6, name=\"dropout\")(outputs['sequence_output'])\n",
    "LSTM_layer1 = Bidirectional(LSTM(80,name=\"LSTM_layer1\",return_sequences=True))(drop_out)\n",
    "drop_out1 = tf.keras.layers.Dropout(0.6, name=\"dropout1\")(LSTM_layer1)\n",
    "layer_2 = Bidirectional(LSTM(160,name=\"LSTM_layer2\"))(drop_out1)\n",
    "l = tf.keras.layers.Dense(6, activation='softmax', name=\"output\")(layer_2)\n",
    "\n",
    "# Use inputs and outputs to construct a final model\n",
    "model_bert_bilstm2 = tf.keras.Model(inputs=[text_input], outputs = [l])"
   ]
  },
  {
   "cell_type": "code",
   "execution_count": 103,
   "id": "l1M6jBKPh6H9",
   "metadata": {
    "id": "l1M6jBKPh6H9"
   },
   "outputs": [],
   "source": [
    "model_bert_bilstm2.compile(optimizer='adam',loss='categorical_crossentropy',metrics=METRICS)"
   ]
  },
  {
   "cell_type": "code",
   "execution_count": 108,
   "id": "aPgPfwIbP0VG",
   "metadata": {
    "colab": {
     "base_uri": "https://localhost:8080/",
     "height": 772
    },
    "id": "aPgPfwIbP0VG",
    "outputId": "605cbdb5-21cc-4641-b4f3-cfae4dec79ab"
   },
   "outputs": [
    {
     "data": {
      "image/png": "[encoded data removed]",
      "text/plain": [
       "<IPython.core.display.Image object>"
      ]
     },
     "execution_count": 108,
     "metadata": {},
     "output_type": "execute_result"
    }
   ],
   "source": [
    "dot_img_file = '/content/drive/MyDrive/datasets/images/model_bert1.png'\n",
    "tf.keras.utils.plot_model(model_bert_bilstm2, to_file=dot_img_file,  show_shapes=False,\n",
    "  show_dtype=True,\n",
    "    show_layer_names=True,\n",
    "    rankdir='TB',\n",
    "    expand_nested=False,\n",
    "    dpi=96,\n",
    "    layer_range=None,\n",
    "    show_layer_activations=True)"
   ]
  },
  {
   "cell_type": "code",
   "execution_count": 104,
   "id": "Tyb00xMs_tTy",
   "metadata": {
    "colab": {
     "base_uri": "https://localhost:8080/"
    },
    "id": "Tyb00xMs_tTy",
    "outputId": "557ae7c5-20ec-4619-d4dc-e0df7d80969b"
   },
   "outputs": [
    {
     "name": "stdout",
     "output_type": "stream",
     "text": [
      "Epoch 1/10\n",
      "1006/1006 [==============================] - 161s 147ms/step - loss: 1.2367 - accuracy: 0.8610 - precision: 0.6464 - recall: 0.3669 - val_loss: 1.1834 - val_accuracy: 0.8514 - val_precision: 0.5727 - val_recall: 0.4275\n",
      "Epoch 2/10\n",
      "1006/1006 [==============================] - 153s 152ms/step - loss: 0.8920 - accuracy: 0.8967 - precision: 0.7500 - recall: 0.5700 - val_loss: 1.0468 - val_accuracy: 0.8727 - val_precision: 0.6409 - val_recall: 0.5380\n",
      "Epoch 3/10\n",
      "1006/1006 [==============================] - 140s 139ms/step - loss: 0.7315 - accuracy: 0.9132 - precision: 0.7865 - recall: 0.6575 - val_loss: 0.8520 - val_accuracy: 0.8969 - val_precision: 0.7189 - val_recall: 0.6265\n",
      "Epoch 4/10\n",
      "1006/1006 [==============================] - 137s 136ms/step - loss: 0.6187 - accuracy: 0.9273 - precision: 0.8197 - recall: 0.7229 - val_loss: 0.8147 - val_accuracy: 0.9035 - val_precision: 0.7331 - val_recall: 0.6620\n",
      "Epoch 5/10\n",
      "1006/1006 [==============================] - 137s 137ms/step - loss: 0.5552 - accuracy: 0.9345 - precision: 0.8364 - recall: 0.7546 - val_loss: 0.8098 - val_accuracy: 0.9076 - val_precision: 0.7358 - val_recall: 0.6950\n",
      "Epoch 6/10\n",
      "1006/1006 [==============================] - 136s 135ms/step - loss: 0.4945 - accuracy: 0.9411 - precision: 0.8518 - recall: 0.7827 - val_loss: 0.8443 - val_accuracy: 0.9027 - val_precision: 0.7263 - val_recall: 0.6675\n",
      "Epoch 7/10\n",
      "1006/1006 [==============================] - 139s 138ms/step - loss: 0.4503 - accuracy: 0.9463 - precision: 0.8625 - recall: 0.8065 - val_loss: 0.7739 - val_accuracy: 0.9148 - val_precision: 0.7582 - val_recall: 0.7180\n",
      "Epoch 8/10\n",
      "1006/1006 [==============================] - 137s 136ms/step - loss: 0.4114 - accuracy: 0.9515 - precision: 0.8754 - recall: 0.8264 - val_loss: 0.7320 - val_accuracy: 0.9198 - val_precision: 0.7749 - val_recall: 0.7315\n",
      "Epoch 9/10\n",
      "1006/1006 [==============================] - 136s 136ms/step - loss: 0.3816 - accuracy: 0.9550 - precision: 0.8838 - recall: 0.8406 - val_loss: 0.8938 - val_accuracy: 0.9084 - val_precision: 0.7377 - val_recall: 0.6990\n",
      "Epoch 10/10\n",
      "1006/1006 [==============================] - 137s 136ms/step - loss: 0.3531 - accuracy: 0.9582 - precision: 0.8911 - recall: 0.8535 - val_loss: 0.8195 - val_accuracy: 0.9118 - val_precision: 0.7505 - val_recall: 0.7055\n"
     ]
    }
   ],
   "source": [
    "history_model_bert_bilstm2=model_bert_bilstm2.fit(X_train_ns,y_train1, epochs=10,validation_data=(X_test, y_test1),callbacks=callback_list)"
   ]
  },
  {
   "cell_type": "code",
   "execution_count": 106,
   "id": "b6koblC5M7kP",
   "metadata": {
    "colab": {
     "base_uri": "https://localhost:8080/",
     "height": 545
    },
    "id": "b6koblC5M7kP",
    "outputId": "5187bfc1-7ebc-4c14-d4b1-ab3d5dbde25e"
   },
   "outputs": [
    {
     "data": {
      "image/png": "[encoded data removed]",
      "text/plain": [
       "<Figure size 432x288 with 1 Axes>"
      ]
     },
     "metadata": {
      "needs_background": "light"
     },
     "output_type": "display_data"
    },
    {
     "data": {
      "image/png": "[encoded data removed]",
      "text/plain": [
       "<Figure size 432x288 with 1 Axes>"
      ]
     },
     "metadata": {
      "needs_background": "light"
     },
     "output_type": "display_data"
    }
   ],
   "source": [
    "# Visualize Loss & Accuracy\n",
    "\n",
    "%matplotlib inline\n",
    "import matplotlib.pyplot as plt\n",
    "acc = history_model_bert_bilstm2.history['accuracy']\n",
    "val_acc = history_model_bert_bilstm2.history['val_accuracy']\n",
    "loss = history_model_bert_bilstm2.history['loss']\n",
    "val_loss = history_model_bert_bilstm2.history['val_loss']\n",
    "\n",
    "epochs = range(len(acc))\n",
    "\n",
    "plt.plot(epochs, acc, 'r', label='Training accuracy')\n",
    "plt.plot(epochs, val_acc, 'b', label='Validation accuracy')\n",
    "plt.title('Training and validation accuracy')\n",
    "plt.legend()\n",
    "plt.figure()\n",
    "\n",
    "plt.plot(epochs, loss, 'r', label='Training Loss')\n",
    "plt.plot(epochs, val_loss, 'b', label='Validation Loss')\n",
    "plt.title('Training and validation loss')\n",
    "plt.legend()\n",
    "\n",
    "plt.show()"
   ]
  },
  {
   "cell_type": "code",
   "execution_count": 110,
   "id": "H1fgDqAUvLXK",
   "metadata": {
    "colab": {
     "base_uri": "https://localhost:8080/"
    },
    "id": "H1fgDqAUvLXK",
    "outputId": "0b40101e-5a14-4076-8108-b37d550d3a42"
   },
   "outputs": [
    {
     "name": "stdout",
     "output_type": "stream",
     "text": [
      "Epoch 1/8\n",
      "1006/1006 [==============================] - 146s 145ms/step - loss: 0.3400 - accuracy: 0.9603 - precision: 0.8970 - recall: 0.8604 - val_loss: 0.8773 - val_accuracy: 0.9168 - val_precision: 0.7601 - val_recall: 0.7320\n",
      "Epoch 2/8\n",
      "1006/1006 [==============================] - 137s 136ms/step - loss: 0.3138 - accuracy: 0.9630 - precision: 0.9026 - recall: 0.8721 - val_loss: 0.8555 - val_accuracy: 0.9146 - val_precision: 0.7535 - val_recall: 0.7245\n",
      "Epoch 3/8\n",
      "1006/1006 [==============================] - 136s 135ms/step - loss: 0.2977 - accuracy: 0.9651 - precision: 0.9080 - recall: 0.8796 - val_loss: 0.8505 - val_accuracy: 0.9175 - val_precision: 0.7619 - val_recall: 0.7345\n",
      "Epoch 4/8\n",
      "1006/1006 [==============================] - 136s 135ms/step - loss: 0.2807 - accuracy: 0.9674 - precision: 0.9141 - recall: 0.8880 - val_loss: 0.9160 - val_accuracy: 0.9144 - val_precision: 0.7512 - val_recall: 0.7275\n",
      "Epoch 5/8\n",
      "1006/1006 [==============================] - 136s 136ms/step - loss: 0.2787 - accuracy: 0.9667 - precision: 0.9123 - recall: 0.8856 - val_loss: 0.9376 - val_accuracy: 0.9198 - val_precision: 0.7664 - val_recall: 0.7465\n",
      "Epoch 6/8\n",
      "1006/1006 [==============================] - 137s 136ms/step - loss: 0.2611 - accuracy: 0.9692 - precision: 0.9190 - recall: 0.8943 - val_loss: 0.8826 - val_accuracy: 0.9201 - val_precision: 0.7673 - val_recall: 0.7470\n"
     ]
    }
   ],
   "source": [
    "history_model_bert_bilstm2=model_bert_bilstm2.fit(X_train_ns,y_train1, epochs=8,validation_data=(X_test, y_test1),callbacks=callback_list)"
   ]
  },
  {
   "cell_type": "code",
   "execution_count": 111,
   "id": "SopkrzbY02iS",
   "metadata": {
    "colab": {
     "base_uri": "https://localhost:8080/"
    },
    "id": "SopkrzbY02iS",
    "outputId": "6c4d9e46-2e9f-4244-a791-a9236244b682"
   },
   "outputs": [
    {
     "name": "stdout",
     "output_type": "stream",
     "text": [
      "63/63 [==============================] - 8s 117ms/step - loss: 0.8505 - accuracy: 0.9175 - precision: 0.7619 - recall: 0.7345\n"
     ]
    },
    {
     "data": {
      "text/plain": [
       "[0.8505356311798096, 0.9174999594688416, 0.761929452419281, 0.734499990940094]"
      ]
     },
     "execution_count": 111,
     "metadata": {},
     "output_type": "execute_result"
    }
   ],
   "source": [
    "model_bert_bilstm2.evaluate(X_test, y_test1)"
   ]
  },
  {
   "cell_type": "code",
   "execution_count": 109,
   "id": "P6Nh4jzlGtv1",
   "metadata": {
    "colab": {
     "base_uri": "https://localhost:8080/"
    },
    "id": "P6Nh4jzlGtv1",
    "outputId": "49cf4730-4b06-4355-f746-eb05a0afd0c5"
   },
   "outputs": [
    {
     "name": "stdout",
     "output_type": "stream",
     "text": [
      "63/63 [==============================] - 7s 113ms/step - loss: 0.8195 - accuracy: 0.9118 - precision: 0.7505 - recall: 0.7055\n"
     ]
    },
    {
     "data": {
      "text/plain": [
       "[0.8195232152938843,\n",
       " 0.9118331074714661,\n",
       " 0.7505319118499756,\n",
       " 0.7055000066757202]"
      ]
     },
     "execution_count": 109,
     "metadata": {},
     "output_type": "execute_result"
    }
   ],
   "source": [
    "model_bert_bilstm2.evaluate(X_test, y_test1)"
   ]
  },
  {
   "cell_type": "code",
   "execution_count": null,
   "id": "-T7VfjuJafLp",
   "metadata": {
    "id": "-T7VfjuJafLp"
   },
   "outputs": [],
   "source": [
    "#Bert + single Bidirectional LSTM with sigmoid activation\n",
    "# Bert layers\n",
    "#model_9\n",
    "text_input = tf.keras.layers.Input(shape=(), dtype=tf.string, name='text')\n",
    "preprocessed_text = bert_preprocess(text_input)\n",
    "outputs = bert_encoder(preprocessed_text)\n",
    "bert_out = tf.keras.layers.SpatialDropout1D(0.2)(outputs['sequence_output'])\n",
    "l_lstm = Bidirectional(LSTM(256))(bert_out)\n",
    "newout = tf.keras.layers.Dense(768,activation='relu')(l_lstm)\n",
    "preds = tf.keras.layers.Dense(units=6, activation='sigmoid')(newout)\n",
    "model_bert_bilstm3 = tf.keras.Model(inputs=[text_input], outputs = [preds])"
   ]
  },
  {
   "cell_type": "code",
   "execution_count": null,
   "id": "ggfy17pPh-Ul",
   "metadata": {
    "id": "ggfy17pPh-Ul"
   },
   "outputs": [],
   "source": [
    "model_bert_bilstm3.compile(optimizer='adam',loss='categorical_crossentropy',metrics=METRICS)"
   ]
  },
  {
   "cell_type": "code",
   "execution_count": null,
   "id": "99577414",
   "metadata": {
    "colab": {
     "base_uri": "https://localhost:8080/"
    },
    "id": "99577414",
    "outputId": "530f6e44-3f7d-44de-b960-5ecef43c8ef4"
   },
   "outputs": [
    {
     "name": "stdout",
     "output_type": "stream",
     "text": [
      "Epoch 1/10\n",
      "1006/1006 [==============================] - 160s 159ms/step - loss: 0.3613 - accuracy: 0.7822 - precision: 0.4327 - recall: 0.9873 - val_loss: 4.8923 - val_accuracy: 0.6387 - val_precision: 0.2354 - val_recall: 0.5195\n",
      "Epoch 2/10\n",
      "1006/1006 [==============================] - 154s 153ms/step - loss: 0.2264 - accuracy: 0.8118 - precision: 0.4695 - recall: 0.9943 - val_loss: 5.9731 - val_accuracy: 0.6529 - val_precision: 0.2432 - val_recall: 0.5125\n",
      "Epoch 3/10\n",
      "1006/1006 [==============================] - 152s 151ms/step - loss: 0.1731 - accuracy: 0.8282 - precision: 0.4923 - recall: 0.9962 - val_loss: 6.1359 - val_accuracy: 0.6633 - val_precision: 0.2493 - val_recall: 0.5070\n",
      "Epoch 4/10\n",
      "1006/1006 [==============================] - 153s 152ms/step - loss: 0.1404 - accuracy: 0.8405 - precision: 0.5110 - recall: 0.9975 - val_loss: 6.5165 - val_accuracy: 0.6680 - val_precision: 0.2471 - val_recall: 0.4845\n"
     ]
    }
   ],
   "source": [
    "history_model_bert_bilstm3=model_bert_bilstm3.fit(X_train_ns,y_train1, epochs=10,validation_data=(X_test,y_test1),callbacks=callback_list)"
   ]
  },
  {
   "cell_type": "code",
   "execution_count": null,
   "id": "a4ed0e7b",
   "metadata": {
    "id": "a4ed0e7b"
   },
   "outputs": [],
   "source": [
    "#The validation loss is increasing in the output.so this case cannot be considered"
   ]
  },
  {
   "cell_type": "markdown",
   "id": "kmdYl8sbM8mb",
   "metadata": {
    "id": "kmdYl8sbM8mb"
   },
   "source": [
    "# Result Analysis - Confusion matrix"
   ]
  },
  {
   "cell_type": "code",
   "execution_count": null,
   "id": "DJm1eSFliPRC",
   "metadata": {
    "id": "DJm1eSFliPRC"
   },
   "outputs": [],
   "source": [
    "# From the analysis Bert + Lstm gives the best accuracy,precision,recall and least loss values. Hence we have chosen \n",
    "#this model as the final. In this section we will be evaluating the model performance on all classes."
   ]
  },
  {
   "cell_type": "markdown",
   "id": "FTdZj6tyjsxo",
   "metadata": {
    "id": "FTdZj6tyjsxo"
   },
   "source": [
    "**Load the Bert LSTM model with best results**"
   ]
  },
  {
   "cell_type": "code",
   "execution_count": 34,
   "id": "VTeqhMF5knkr",
   "metadata": {
    "id": "VTeqhMF5knkr"
   },
   "outputs": [],
   "source": [
    "loaded_model=tf.keras.models.load_model(\"/content/drive/MyDrive/models/model_BertLSTM1.9470\")"
   ]
  },
  {
   "cell_type": "markdown",
   "id": "Ni7UISuMIVA0",
   "metadata": {
    "id": "Ni7UISuMIVA0"
   },
   "source": [
    "Test the model performance"
   ]
  },
  {
   "cell_type": "code",
   "execution_count": 36,
   "id": "JyQ8V-Fyk4Xa",
   "metadata": {
    "colab": {
     "base_uri": "https://localhost:8080/"
    },
    "id": "JyQ8V-Fyk4Xa",
    "outputId": "01bef8f0-7fcb-407d-bfb4-3fdb0a3c4b6f"
   },
   "outputs": [
    {
     "name": "stdout",
     "output_type": "stream",
     "text": [
      "63/63 [==============================] - 13s 168ms/step - loss: 0.4861 - accuracy: 0.9470 - precision: 0.8458 - recall: 0.8340\n"
     ]
    },
    {
     "data": {
      "text/plain": [
       "[0.48609718680381775,\n",
       " 0.946999728679657,\n",
       " 0.8458417654037476,\n",
       " 0.8339999914169312]"
      ]
     },
     "execution_count": 36,
     "metadata": {},
     "output_type": "execute_result"
    }
   ],
   "source": [
    "loaded_model.evaluate(X_test, y_test1)"
   ]
  },
  {
   "cell_type": "code",
   "execution_count": 87,
   "id": "0c7066b3",
   "metadata": {
    "colab": {
     "base_uri": "https://localhost:8080/",
     "height": 237
    },
    "id": "0c7066b3",
    "outputId": "e3d2aebc-5ec2-4064-bd0a-59b9d1a57bc7"
   },
   "outputs": [
    {
     "data": {
      "text/html": [
       "\n",
       "  <div id=\"df-9a1ebe92-6c15-4b6c-bdff-aaa76b1f1e96\">\n",
       "    <div class=\"colab-df-container\">\n",
       "      <div>\n",
       "<style scoped>\n",
       "    .dataframe tbody tr th:only-of-type {\n",
       "        vertical-align: middle;\n",
       "    }\n",
       "\n",
       "    .dataframe tbody tr th {\n",
       "        vertical-align: top;\n",
       "    }\n",
       "\n",
       "    .dataframe thead th {\n",
       "        text-align: right;\n",
       "    }\n",
       "</style>\n",
       "<table border=\"1\" class=\"dataframe\">\n",
       "  <thead>\n",
       "    <tr style=\"text-align: right;\">\n",
       "      <th></th>\n",
       "      <th>label</th>\n",
       "      <th>label_desc</th>\n",
       "    </tr>\n",
       "  </thead>\n",
       "  <tbody>\n",
       "    <tr>\n",
       "      <th>2</th>\n",
       "      <td>0</td>\n",
       "      <td>anger</td>\n",
       "    </tr>\n",
       "    <tr>\n",
       "      <th>7</th>\n",
       "      <td>1</td>\n",
       "      <td>fear</td>\n",
       "    </tr>\n",
       "    <tr>\n",
       "      <th>8</th>\n",
       "      <td>2</td>\n",
       "      <td>joy</td>\n",
       "    </tr>\n",
       "    <tr>\n",
       "      <th>3</th>\n",
       "      <td>3</td>\n",
       "      <td>love</td>\n",
       "    </tr>\n",
       "    <tr>\n",
       "      <th>0</th>\n",
       "      <td>4</td>\n",
       "      <td>sadness</td>\n",
       "    </tr>\n",
       "    <tr>\n",
       "      <th>6</th>\n",
       "      <td>5</td>\n",
       "      <td>surprise</td>\n",
       "    </tr>\n",
       "  </tbody>\n",
       "</table>\n",
       "</div>\n",
       "      <button class=\"colab-df-convert\" onclick=\"convertToInteractive('df-9a1ebe92-6c15-4b6c-bdff-aaa76b1f1e96')\"\n",
       "              title=\"Convert this dataframe to an interactive table.\"\n",
       "              style=\"display:none;\">\n",
       "        \n",
       "  <svg xmlns=\"http://www.w3.org/2000/svg\" height=\"24px\"viewBox=\"0 0 24 24\"\n",
       "       width=\"24px\">\n",
       "    <path d=\"M0 0h24v24H0V0z\" fill=\"none\"/>\n",
       "    <path d=\"M18.56 5.44l.94 2.06.94-2.06 2.06-.94-2.06-.94-.94-2.06-.94 2.06-2.06.94zm-11 1L8.5 8.5l.94-2.06 2.06-.94-2.06-.94L8.5 2.5l-.94 2.06-2.06.94zm10 10l.94 2.06.94-2.06 2.06-.94-2.06-.94-.94-2.06-.94 2.06-2.06.94z\"/><path d=\"M17.41 7.96l-1.37-1.37c-.4-.4-.92-.59-1.43-.59-.52 0-1.04.2-1.43.59L10.3 9.45l-7.72 7.72c-.78.78-.78 2.05 0 2.83L4 21.41c.39.39.9.59 1.41.59.51 0 1.02-.2 1.41-.59l7.78-7.78 2.81-2.81c.8-.78.8-2.07 0-2.86zM5.41 20L4 18.59l7.72-7.72 1.47 1.35L5.41 20z\"/>\n",
       "  </svg>\n",
       "      </button>\n",
       "      \n",
       "  <style>\n",
       "    .colab-df-container {\n",
       "      display:flex;\n",
       "      flex-wrap:wrap;\n",
       "      gap: 12px;\n",
       "    }\n",
       "\n",
       "    .colab-df-convert {\n",
       "      background-color: #E8F0FE;\n",
       "      border: none;\n",
       "      border-radius: 50%;\n",
       "      cursor: pointer;\n",
       "      display: none;\n",
       "      fill: #1967D2;\n",
       "      height: 32px;\n",
       "      padding: 0 0 0 0;\n",
       "      width: 32px;\n",
       "    }\n",
       "\n",
       "    .colab-df-convert:hover {\n",
       "      background-color: #E2EBFA;\n",
       "      box-shadow: 0px 1px 2px rgba(60, 64, 67, 0.3), 0px 1px 3px 1px rgba(60, 64, 67, 0.15);\n",
       "      fill: #174EA6;\n",
       "    }\n",
       "\n",
       "    [theme=dark] .colab-df-convert {\n",
       "      background-color: #3B4455;\n",
       "      fill: #D2E3FC;\n",
       "    }\n",
       "\n",
       "    [theme=dark] .colab-df-convert:hover {\n",
       "      background-color: #434B5C;\n",
       "      box-shadow: 0px 1px 3px 1px rgba(0, 0, 0, 0.15);\n",
       "      filter: drop-shadow(0px 1px 2px rgba(0, 0, 0, 0.3));\n",
       "      fill: #FFFFFF;\n",
       "    }\n",
       "  </style>\n",
       "\n",
       "      <script>\n",
       "        const buttonEl =\n",
       "          document.querySelector('#df-9a1ebe92-6c15-4b6c-bdff-aaa76b1f1e96 button.colab-df-convert');\n",
       "        buttonEl.style.display =\n",
       "          google.colab.kernel.accessAllowed ? 'block' : 'none';\n",
       "\n",
       "        async function convertToInteractive(key) {\n",
       "          const element = document.querySelector('#df-9a1ebe92-6c15-4b6c-bdff-aaa76b1f1e96');\n",
       "          const dataTable =\n",
       "            await google.colab.kernel.invokeFunction('convertToInteractive',\n",
       "                                                     [key], {});\n",
       "          if (!dataTable) return;\n",
       "\n",
       "          const docLinkHtml = 'Like what you see? Visit the ' +\n",
       "            '<a target=\"_blank\" href=https://colab.research.google.com/notebooks/data_table.ipynb>data table notebook</a>'\n",
       "            + ' to learn more about interactive tables.';\n",
       "          element.innerHTML = '';\n",
       "          dataTable['output_type'] = 'display_data';\n",
       "          await google.colab.output.renderOutput(dataTable, element);\n",
       "          const docLink = document.createElement('div');\n",
       "          docLink.innerHTML = docLinkHtml;\n",
       "          element.appendChild(docLink);\n",
       "        }\n",
       "      </script>\n",
       "    </div>\n",
       "  </div>\n",
       "  "
      ],
      "text/plain": [
       "   label label_desc\n",
       "2      0      anger\n",
       "7      1       fear\n",
       "8      2        joy\n",
       "3      3       love\n",
       "0      4    sadness\n",
       "6      5   surprise"
      ]
     },
     "execution_count": 87,
     "metadata": {},
     "output_type": "execute_result"
    }
   ],
   "source": [
    "classes"
   ]
  },
  {
   "cell_type": "markdown",
   "id": "n1xsQfAvfNmU",
   "metadata": {
    "id": "n1xsQfAvfNmU"
   },
   "source": [
    "**Predict a single text**"
   ]
  },
  {
   "cell_type": "code",
   "execution_count": 88,
   "id": "e0bcf1c3",
   "metadata": {
    "colab": {
     "base_uri": "https://localhost:8080/"
    },
    "id": "e0bcf1c3",
    "outputId": "b64347cb-56e2-4a14-d3cf-1a0d86b22839"
   },
   "outputs": [
    {
     "data": {
      "text/plain": [
       "array([1.7733749e-03, 1.7670012e-03, 3.9944970e-03, 2.5802967e-06,\n",
       "       1.9804237e-03, 9.9048209e-01], dtype=float32)"
      ]
     },
     "execution_count": 88,
     "metadata": {},
     "output_type": "execute_result"
    }
   ],
   "source": [
    "input_test=[\"i am astonished hearing this\"]\n",
    "probs=loaded_model.predict(input_test)\n",
    "probs[0]"
   ]
  },
  {
   "cell_type": "code",
   "execution_count": 89,
   "id": "dce10176",
   "metadata": {
    "colab": {
     "base_uri": "https://localhost:8080/"
    },
    "id": "dce10176",
    "outputId": "8c2d038d-dcbc-458e-fa07-53c93a5006c2"
   },
   "outputs": [
    {
     "name": "stdout",
     "output_type": "stream",
     "text": [
      "Output of the model: 5\n",
      "Predicted sentiment: surprise.\n"
     ]
    }
   ],
   "source": [
    "k=np.argmax(probs[0])\n",
    "if k == 0:\n",
    "  print(\"Output of the model: {}\\nPredicted sentiment: anger.\".format(\n",
    "            k))\n",
    "elif k == 1:\n",
    "  print(\"Output of the model: {}\\nPredicted sentiment: fear.\".format(k))\n",
    "           \n",
    "elif k == 2:\n",
    "  print(\"Output of the model: {}\\nPredicted sentiment: joy.\".format(k))\n",
    "           \n",
    "elif k == 3:\n",
    "  print(\"Output of the model: {}\\nPredicted sentiment: love.\".format(k))\n",
    "           \n",
    "elif k == 4:\n",
    "  print(\"Output of the model: {}\\nPredicted sentiment: sadness.\".format(k))\n",
    "         \n",
    "elif k == 5: \n",
    "  print(\"Output of the model: {}\\nPredicted sentiment: surprise.\".format(k))"
   ]
  },
  {
   "cell_type": "markdown",
   "id": "A7Bm8E2lt_S5",
   "metadata": {
    "id": "A7Bm8E2lt_S5"
   },
   "source": [
    "**Plotting Confusion matrix on test data**"
   ]
  },
  {
   "cell_type": "code",
   "execution_count": 90,
   "id": "bf9a23a0",
   "metadata": {
    "id": "bf9a23a0"
   },
   "outputs": [],
   "source": [
    "y_predicted = loaded_model.predict(X_test)\n",
    "y_pred=[]"
   ]
  },
  {
   "cell_type": "code",
   "execution_count": 91,
   "id": "36a38c97",
   "metadata": {
    "id": "36a38c97"
   },
   "outputs": [],
   "source": [
    "for i in y_predicted:\n",
    "    y_pred.append(np.argmax(i))"
   ]
  },
  {
   "cell_type": "code",
   "execution_count": 92,
   "id": "20801dee",
   "metadata": {
    "colab": {
     "base_uri": "https://localhost:8080/"
    },
    "id": "20801dee",
    "outputId": "4af8a899-615e-40ba-f637-7dd343d429fa"
   },
   "outputs": [
    {
     "data": {
      "text/plain": [
       "0       4\n",
       "1       4\n",
       "2       4\n",
       "3       2\n",
       "4       4\n",
       "       ..\n",
       "1995    0\n",
       "1996    0\n",
       "1997    2\n",
       "1998    2\n",
       "1999    1\n",
       "Length: 2000, dtype: int64"
      ]
     },
     "execution_count": 92,
     "metadata": {},
     "output_type": "execute_result"
    }
   ],
   "source": [
    "y_pred1=pd.Series(y_pred)\n",
    "y_pred1"
   ]
  },
  {
   "cell_type": "code",
   "execution_count": 94,
   "id": "onaVlt3NDTfU",
   "metadata": {
    "colab": {
     "base_uri": "https://localhost:8080/"
    },
    "id": "onaVlt3NDTfU",
    "outputId": "b55ca0f7-ad2d-4d43-eed7-79341cc95e76"
   },
   "outputs": [
    {
     "name": "stdout",
     "output_type": "stream",
     "text": [
      "              precision    recall  f1-score   support\n",
      "\n",
      "           0       0.79      0.84      0.81       275\n",
      "           1       0.79      0.85      0.82       224\n",
      "           2       0.90      0.89      0.89       695\n",
      "           3       0.67      0.74      0.70       159\n",
      "           4       0.90      0.85      0.87       581\n",
      "           5       0.65      0.52      0.58        66\n",
      "\n",
      "    accuracy                           0.84      2000\n",
      "   macro avg       0.78      0.78      0.78      2000\n",
      "weighted avg       0.84      0.84      0.84      2000\n",
      "\n"
     ]
    }
   ],
   "source": [
    "print(classification_report(Y_test,y_pred1))"
   ]
  },
  {
   "cell_type": "code",
   "execution_count": 96,
   "id": "a0c3c523",
   "metadata": {
    "id": "a0c3c523"
   },
   "outputs": [],
   "source": [
    "from sklearn import metrics\n",
    "cm=metrics.confusion_matrix(Y_test,y_pred1)"
   ]
  },
  {
   "cell_type": "code",
   "execution_count": 97,
   "id": "fRe4GzyFl5Jn",
   "metadata": {
    "colab": {
     "base_uri": "https://localhost:8080/"
    },
    "id": "fRe4GzyFl5Jn",
    "outputId": "2ec9cc58-69f1-44d0-cf3c-0ec8d2774a6b"
   },
   "outputs": [
    {
     "name": "stdout",
     "output_type": "stream",
     "text": [
      "[[231  11   9   3  21   0]\n",
      " [  7 190   5   0   9  13]\n",
      " [  8   2 616  45  19   5]\n",
      " [  3   3  30 117   6   0]\n",
      " [ 42  17  20   9 493   0]\n",
      " [  3  19   8   0   2  34]]\n"
     ]
    }
   ],
   "source": [
    "print(cm)"
   ]
  },
  {
   "cell_type": "code",
   "execution_count": 101,
   "id": "43aB7cdkzANP",
   "metadata": {
    "colab": {
     "base_uri": "https://localhost:8080/",
     "height": 283
    },
    "id": "43aB7cdkzANP",
    "outputId": "cc9bf6e4-651f-40a7-98bb-526effbc1426"
   },
   "outputs": [
    {
     "data": {
      "text/plain": [
       "<matplotlib.axes._subplots.AxesSubplot at 0x7fb4a6296f90>"
      ]
     },
     "execution_count": 101,
     "metadata": {},
     "output_type": "execute_result"
    },
    {
     "data": {
      "image/png": "[encoded data removed]",
      "text/plain": [
       "<Figure size 432x288 with 2 Axes>"
      ]
     },
     "metadata": {
      "needs_background": "light"
     },
     "output_type": "display_data"
    }
   ],
   "source": [
    "x_axis_labels = [\"anger\",\"fear\",\"joy\",\"love\",\"sadness\",\"surprise\"] # labels for x-axis\n",
    "y_axis_labels = [\"anger\",\"fear\",\"joy\",\"love\",\"sadness\",\"surprise\"] # labels for y-axis\n",
    "\n",
    "# create seabvorn heatmap with required labels\n",
    "sns.heatmap(cm,annot =True,cmap='Blues', fmt='g', xticklabels=x_axis_labels, yticklabels=y_axis_labels)"
   ]
  },
  {
   "cell_type": "code",
   "execution_count": null,
   "id": "Aht8_Dhvmv1E",
   "metadata": {
    "id": "Aht8_Dhvmv1E"
   },
   "outputs": [],
   "source": []
  },
  {
   "cell_type": "markdown",
   "id": "Ik0meEtyfI_b",
   "metadata": {
    "id": "Ik0meEtyfI_b"
   },
   "source": []
  }
 ],
 "metadata": {
  "accelerator": "GPU",
  "colab": {
   "collapsed_sections": [],
   "name": "Bert_FineTuning-emotion_classifier-.ipynb",
   "provenance": []
  },
  "kernelspec": {
   "display_name": "Python 3",
   "language": "python",
   "name": "python3"
  },
  "language_info": {
   "codemirror_mode": {
    "name": "ipython",
    "version": 3
   },
   "file_extension": ".py",
   "mimetype": "text/x-python",
   "name": "python",
   "nbconvert_exporter": "python",
   "pygments_lexer": "ipython3",
   "version": "3.8.8"
  }
 },
 "nbformat": 4,
 "nbformat_minor": 5
}
